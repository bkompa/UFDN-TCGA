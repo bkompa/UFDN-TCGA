{
 "cells": [
  {
   "cell_type": "code",
   "execution_count": 12,
   "metadata": {},
   "outputs": [],
   "source": [
    "#import stuff \n",
    "import yaml\n",
    "import os\n",
    "import sys\n",
    "import shutil\n",
    "import numpy as np\n",
    "import torch\n",
    "import h5py\n",
    "\n",
    "from itertools import cycle\n",
    "\n",
    "from torch.backends import cudnn\n",
    "import torch.optim as optim\n",
    "import torch.nn as nn\n",
    "from torch.autograd import Variable, grad\n",
    "\n",
    "from src.data import LoadDataset\n",
    "from src.ufdn import LoadModel\n",
    "\n",
    "#We'll need to modify this for 3+ domains\n",
    "from src.util import vae_loss, calc_gradient_penalty, interpolate_vae_3d\n",
    "\n",
    "from tensorboardX import SummaryWriter "
   ]
  },
  {
   "cell_type": "code",
   "execution_count": 2,
   "metadata": {},
   "outputs": [],
   "source": [
    "#set this to the path of this yaml file \n",
    "#get it from my github branch \n",
    "config_path = 'config/tcga_domains.yaml'"
   ]
  },
  {
   "cell_type": "code",
   "execution_count": 6,
   "metadata": {},
   "outputs": [],
   "source": [
    "conf = yaml.load(open(config_path,'r'))\n",
    "exp_name = conf['exp_setting']['exp_name']\n",
    "#img_size is only used in conv nets\n",
    "#originally it was 64\n",
    "img_size = conf['exp_setting']['img_size']\n",
    "#20,501 img_depth\n",
    "img_depth = conf['exp_setting']['img_depth']\n",
    "domains = conf['exp_setting']['domains']\n",
    "number_of_domains = len(domains)\n",
    "\n",
    "\n",
    "data_root = conf['exp_setting']['data_root']\n",
    "batch_size = conf['trainer']['batch_size']\n",
    "\n",
    "\n",
    "enc_dim = conf['model']['vae']['encoder'][-1][1] #latent space dimension #100\n",
    "code_dim = conf['model']['vae']['code_dim'] #number of domains #currently 3 \n",
    "vae_learning_rate = conf['model']['vae']['lr'] #learning rate #10e-4\n",
    "vae_betas = tuple(conf['model']['vae']['betas']) #used for adam optimizer\n"
   ]
  },
  {
   "cell_type": "code",
   "execution_count": 7,
   "metadata": {},
   "outputs": [],
   "source": [
    "#load the model in a blank form \n",
    "vae = LoadModel('vae',conf['model']['vae'],img_size,img_depth)"
   ]
  },
  {
   "cell_type": "code",
   "execution_count": 9,
   "metadata": {},
   "outputs": [],
   "source": [
    "#load in the trained params\n",
    "#put statedict.pt in the same directory as this ipynb \n",
    "vae.load_state_dict(torch.load('statedict.pt'))"
   ]
  },
  {
   "cell_type": "code",
   "execution_count": 17,
   "metadata": {},
   "outputs": [
    {
     "data": {
      "text/plain": [
       "UFDN(\n",
       "  (enc_0): Sequential(\n",
       "    (0): Linear(in_features=20501, out_features=500, bias=True)\n",
       "    (1): BatchNorm1d(500, eps=1e-05, momentum=0.1, affine=True, track_running_stats=True)\n",
       "    (2): LeakyReLU(negative_slope=0.2)\n",
       "  )\n",
       "  (enc_mu): Sequential(\n",
       "    (0): Linear(in_features=500, out_features=100, bias=True)\n",
       "  )\n",
       "  (enc_logvar): Sequential(\n",
       "    (0): Linear(in_features=500, out_features=100, bias=True)\n",
       "  )\n",
       "  (dec_0): Sequential(\n",
       "    (0): Linear(in_features=133, out_features=500, bias=True)\n",
       "    (1): BatchNorm1d(500, eps=1e-05, momentum=0.1, affine=True, track_running_stats=True)\n",
       "    (2): LeakyReLU(negative_slope=0.2)\n",
       "  )\n",
       "  (dec_1): Sequential(\n",
       "    (0): Linear(in_features=500, out_features=20501, bias=True)\n",
       "  )\n",
       ")"
      ]
     },
     "execution_count": 17,
     "metadata": {},
     "output_type": "execute_result"
    }
   ],
   "source": [
    "#set to eval mode, very important (so it doesn't train)\n",
    "vae.eval()"
   ]
  },
  {
   "cell_type": "code",
   "execution_count": 13,
   "metadata": {},
   "outputs": [],
   "source": [
    "#get the data \n",
    "\n",
    "tcga = h5py.File('../TCGAProject/tcga_01.h5', mode='r') # Adjust for correct file\n",
    "cancers = list(tcga['tcga/train'])\n",
    "tcga_stack = np.vstack(list([tcga['tcga/train/'+c] for c in cancers]))"
   ]
  },
  {
   "cell_type": "code",
   "execution_count": 18,
   "metadata": {},
   "outputs": [],
   "source": [
    "#get a random encoding \n",
    "enc_1 = vae(Variable(torch.FloatTensor(tcga_stack[0,:]).unsqueeze(0)),return_enc=True).cpu().data.numpy()"
   ]
  },
  {
   "cell_type": "code",
   "execution_count": 22,
   "metadata": {},
   "outputs": [
    {
     "ename": "AttributeError",
     "evalue": "'numpy.ndarray' object has no attribute 'expand'",
     "output_type": "error",
     "traceback": [
      "\u001b[0;31m---------------------------------------------------------------------------\u001b[0m",
      "\u001b[0;31mAttributeError\u001b[0m                            Traceback (most recent call last)",
      "\u001b[0;32m<ipython-input-22-16d8c6c21820>\u001b[0m in \u001b[0;36m<module>\u001b[0;34m()\u001b[0m\n\u001b[0;32m----> 1\u001b[0;31m \u001b[0menc_1\u001b[0m\u001b[0;34m[\u001b[0m\u001b[0;36m0\u001b[0m\u001b[0;34m]\u001b[0m\u001b[0;34m.\u001b[0m\u001b[0mexpand\u001b[0m\u001b[0;34m(\u001b[0m\u001b[0;34m)\u001b[0m\u001b[0;34m.\u001b[0m\u001b[0mshape\u001b[0m\u001b[0;34m\u001b[0m\u001b[0m\n\u001b[0m",
      "\u001b[0;31mAttributeError\u001b[0m: 'numpy.ndarray' object has no attribute 'expand'"
     ]
    }
   ],
   "source": [
    "enc_1[0].shape"
   ]
  },
  {
   "cell_type": "code",
   "execution_count": 25,
   "metadata": {},
   "outputs": [],
   "source": [
    "encodings = np.zeros((7301,100))"
   ]
  },
  {
   "cell_type": "code",
   "execution_count": 29,
   "metadata": {},
   "outputs": [
    {
     "name": "stdout",
     "output_type": "stream",
     "text": [
      "0\n",
      "100\n",
      "200\n",
      "300\n",
      "400\n",
      "500\n",
      "600\n",
      "700\n",
      "800\n",
      "900\n",
      "1000\n",
      "1100\n",
      "1200\n",
      "1300\n",
      "1400\n",
      "1500\n",
      "1600\n",
      "1700\n",
      "1800\n",
      "1900\n",
      "2000\n",
      "2100\n",
      "2200\n",
      "2300\n",
      "2400\n",
      "2500\n",
      "2600\n",
      "2700\n",
      "2800\n",
      "2900\n",
      "3000\n",
      "3100\n",
      "3200\n",
      "3300\n",
      "3400\n",
      "3500\n",
      "3600\n",
      "3700\n",
      "3800\n",
      "3900\n",
      "4000\n",
      "4100\n",
      "4200\n",
      "4300\n",
      "4400\n",
      "4500\n",
      "4600\n",
      "4700\n",
      "4800\n",
      "4900\n",
      "5000\n",
      "5100\n",
      "5200\n",
      "5300\n",
      "5400\n",
      "5500\n",
      "5600\n",
      "5700\n",
      "5800\n",
      "5900\n",
      "6000\n",
      "6100\n",
      "6200\n",
      "6300\n",
      "6400\n",
      "6500\n",
      "6600\n",
      "6700\n",
      "6800\n",
      "6900\n",
      "7000\n",
      "7100\n",
      "7200\n",
      "7300\n"
     ]
    }
   ],
   "source": [
    "#get all the encodings \n",
    "for i in range(tcga_stack.shape[0]):\n",
    "    if i%100==0: \n",
    "        print(i)\n",
    "    encodings[i] = vae(Variable(torch.FloatTensor(tcga_stack[i,:]).unsqueeze(0)),return_enc=True).cpu().data.numpy()"
   ]
  },
  {
   "cell_type": "code",
   "execution_count": 30,
   "metadata": {},
   "outputs": [],
   "source": [
    "np.save(arr=encodings, file='encodings.npy')"
   ]
  },
  {
   "cell_type": "code",
   "execution_count": 53,
   "metadata": {},
   "outputs": [
    {
     "data": {
      "text/plain": [
       "array([[ 1.53615141,  2.03998041,  0.26760939, ...,  2.68303204,\n",
       "        -0.45182565, -1.81147921],\n",
       "       [ 1.53098238,  2.02159905,  0.27904192, ...,  2.67480159,\n",
       "        -0.45245257, -1.78775108],\n",
       "       [ 1.52760839,  2.03231525,  0.25800234, ...,  2.67778993,\n",
       "        -0.46561608, -1.80481398],\n",
       "       ...,\n",
       "       [ 1.5598805 ,  2.02180123,  0.29629704, ...,  2.66306639,\n",
       "        -0.45519075, -1.82134151],\n",
       "       [ 1.55105269,  2.03682613,  0.29667199, ...,  2.66759586,\n",
       "        -0.43666753, -1.80562031],\n",
       "       [ 1.54031563,  2.02915335,  0.29366675, ...,  2.66511512,\n",
       "        -0.43831924, -1.79955018]])"
      ]
     },
     "execution_count": 53,
     "metadata": {},
     "output_type": "execute_result"
    }
   ],
   "source": [
    "encodings"
   ]
  },
  {
   "cell_type": "code",
   "execution_count": 32,
   "metadata": {},
   "outputs": [
    {
     "data": {
      "text/plain": [
       "array([[ 1.53615141,  2.03998041,  0.26760939, ...,  2.68303204,\n",
       "        -0.45182565, -1.81147921],\n",
       "       [ 1.53098238,  2.02159905,  0.27904192, ...,  2.67480159,\n",
       "        -0.45245257, -1.78775108],\n",
       "       [ 1.52760839,  2.03231525,  0.25800234, ...,  2.67778993,\n",
       "        -0.46561608, -1.80481398],\n",
       "       ...,\n",
       "       [ 1.5598805 ,  2.02180123,  0.29629704, ...,  2.66306639,\n",
       "        -0.45519075, -1.82134151],\n",
       "       [ 1.55105269,  2.03682613,  0.29667199, ...,  2.66759586,\n",
       "        -0.43666753, -1.80562031],\n",
       "       [ 1.54031563,  2.02915335,  0.29366675, ...,  2.66511512,\n",
       "        -0.43831924, -1.79955018]])"
      ]
     },
     "execution_count": 32,
     "metadata": {},
     "output_type": "execute_result"
    }
   ],
   "source": [
    "np.load('encodings.npy')"
   ]
  },
  {
   "cell_type": "code",
   "execution_count": 33,
   "metadata": {},
   "outputs": [],
   "source": [
    "#messing aroudn to figure out the decoding interpolations \n",
    "\n",
    "\n",
    "import numpy as np\n",
    "import torch\n",
    "import torch.nn as nn\n",
    "from torch.autograd import Variable, grad\n"
   ]
  },
  {
   "cell_type": "code",
   "execution_count": 50,
   "metadata": {},
   "outputs": [],
   "source": [
    "attr_inters = 5\n",
    "id_inters = 3\n",
    "attr_max = 1.0\n",
    "attr_dim=3\n",
    "random_test=False\n",
    "return_each_layer=False\n",
    "sd =1\n",
    "disentangle_dim=None\n",
    "    \n",
    "attr_min = 1.0-attr_max\n",
    "\n",
    "alphas = np.linspace(attr_min, attr_max, attr_inters)\n",
    "if disentangle_dim:\n",
    "    alphas = [torch.FloatTensor([*([1 - alpha]*int((attr_dim-disentangle_dim)/3)),\n",
    "                                 *([0]*int((attr_dim-disentangle_dim)/3)),\n",
    "                                 *([alpha]*int((attr_dim-disentangle_dim)/3)),\n",
    "                                 *([ v for i in range(int(disentangle_dim/2)) for v in [1-alpha,alpha]])]) for alpha in alphas]\\\n",
    "            +[torch.FloatTensor([*([0]*int((attr_dim-disentangle_dim)/3)),\n",
    "                                 *([alpha]*int((attr_dim-disentangle_dim)/3)),\n",
    "                                 *([1-alpha]*int((attr_dim-disentangle_dim)/3)),\n",
    "                                 *([ v for i in range(int(disentangle_dim/2)) for v in [alpha,1-alpha]])]) for alpha in alphas[1:]]\\\n",
    "            +[torch.FloatTensor([*([alpha]*int((attr_dim-disentangle_dim)/3)),\n",
    "                                 *([1 - alpha]*int((attr_dim-disentangle_dim)/3)),\n",
    "                                 *([0]*int((attr_dim-disentangle_dim)/3)),\n",
    "                                 *([ v for i in range(int(disentangle_dim/2)) for v in [1-alpha,alpha]])]) for alpha in alphas[1:-1]]\n",
    "else:\n",
    "    alphas = [torch.FloatTensor([*([1 - alpha]*int(attr_dim/3)),\n",
    "                                 *([0]*int(attr_dim/3)),\n",
    "                                 *([alpha]*int(attr_dim/3))]) for alpha in alphas]\\\n",
    "            +[torch.FloatTensor([*([0]*int(attr_dim/3)),\n",
    "                                 *([alpha]*int(attr_dim/3)),\n",
    "                                 *([1-alpha]*int(attr_dim/3))]) for alpha in alphas[1:]]\\\n",
    "            +[torch.FloatTensor([*([alpha]*int(attr_dim/3)),\n",
    "                                 *([1 - alpha]*int(attr_dim/3)),\n",
    "                                 *([0]*int(attr_dim/3))]) for alpha in alphas[1:-1]]"
   ]
  },
  {
   "cell_type": "code",
   "execution_count": 51,
   "metadata": {},
   "outputs": [
    {
     "data": {
      "text/plain": [
       "[tensor([1., 0., 0.]),\n",
       " tensor([0.7500, 0.0000, 0.2500]),\n",
       " tensor([0.5000, 0.0000, 0.5000]),\n",
       " tensor([0.2500, 0.0000, 0.7500]),\n",
       " tensor([0., 0., 1.]),\n",
       " tensor([0.0000, 0.2500, 0.7500]),\n",
       " tensor([0.0000, 0.5000, 0.5000]),\n",
       " tensor([0.0000, 0.7500, 0.2500]),\n",
       " tensor([0., 1., 0.]),\n",
       " tensor([0.2500, 0.7500, 0.0000]),\n",
       " tensor([0.5000, 0.5000, 0.0000]),\n",
       " tensor([0.7500, 0.2500, 0.0000])]"
      ]
     },
     "execution_count": 51,
     "metadata": {},
     "output_type": "execute_result"
    }
   ],
   "source": [
    "alphas"
   ]
  },
  {
   "cell_type": "code",
   "execution_count": 52,
   "metadata": {},
   "outputs": [
    {
     "name": "stdout",
     "output_type": "stream",
     "text": [
      "tensor([[1., 0., 0.]])\n",
      "tensor([[0.7500, 0.0000, 0.2500]])\n",
      "tensor([[0.5000, 0.0000, 0.5000]])\n",
      "tensor([[0.2500, 0.0000, 0.7500]])\n",
      "tensor([[0., 0., 1.]])\n",
      "tensor([[0.0000, 0.2500, 0.7500]])\n",
      "tensor([[0.0000, 0.5000, 0.5000]])\n",
      "tensor([[0.0000, 0.7500, 0.2500]])\n",
      "tensor([[0., 1., 0.]])\n",
      "tensor([[0.2500, 0.7500, 0.0000]])\n",
      "tensor([[0.5000, 0.5000, 0.0000]])\n",
      "tensor([[0.7500, 0.2500, 0.0000]])\n"
     ]
    }
   ],
   "source": [
    "for alpha in alphas:\n",
    "    alpha = Variable(alpha.unsqueeze(0).expand((1, attr_dim)))\n",
    "    print(alpha)"
   ]
  },
  {
   "cell_type": "code",
   "execution_count": 69,
   "metadata": {},
   "outputs": [
    {
     "data": {
      "text/plain": [
       "tensor([[-1.4640e-02, -1.1962e-02, -3.6094e-02,  ...,  7.7365e-02,\n",
       "          2.7635e-02, -2.4737e-02]], grad_fn=<ThAddmmBackward>)"
      ]
     },
     "execution_count": 69,
     "metadata": {},
     "output_type": "execute_result"
    }
   ],
   "source": [
    "vae.decode(Variable(torch.FloatTensor(encodings[1000,:]).unsqueeze(0)), Variable(torch.FloatTensor(np.identity(33)[3,:]).unsqueeze(0)))"
   ]
  },
  {
   "cell_type": "code",
   "execution_count": 64,
   "metadata": {},
   "outputs": [
    {
     "data": {
      "text/plain": [
       "array([ 1.54030132,  2.02600002,  0.27444807, -1.54520559,  2.70614004,\n",
       "        0.25061393,  1.10731661, -1.0014708 ,  4.08568716, -1.56517661,\n",
       "        3.10664129, -2.52854395,  2.67715669,  2.08753204,  3.8629775 ,\n",
       "       -1.10294557,  3.14427829,  2.57238388, -1.33304691,  3.34982204,\n",
       "       -4.08677578, -4.98691845, -2.21853876,  2.30798244, -2.00586915,\n",
       "        3.21945572,  0.50464016, -1.49799097, -5.0915184 ,  0.39732355,\n",
       "        1.00865614, -0.36023962,  1.97710395,  1.6248368 ,  1.06481194,\n",
       "       -0.74596322, -1.54945481, -1.3093797 ,  0.58001065,  2.5515008 ,\n",
       "       -6.48347139, -2.7555809 , -0.72744966, -0.28303605, -3.69317007,\n",
       "       -3.40090013,  3.80709147,  4.36505938,  1.09659648,  4.76109028,\n",
       "       -1.56292117,  1.60711229, -0.20046866, -0.27617255, -0.25786683,\n",
       "       -2.89299488, -1.18031538, -6.29413462,  0.64341903,  3.25232434,\n",
       "        1.69875801, -1.01921535, -0.97148287, -2.11943579,  0.24789819,\n",
       "        4.7263093 , -1.41808462,  1.49636734,  1.92666674,  3.33748698,\n",
       "       -0.74529117,  2.43351674,  0.83220083, -0.618065  ,  2.07054925,\n",
       "       -4.38506269,  2.15039349,  3.0009172 , -0.34691554, -4.32926846,\n",
       "       -0.91244632,  0.38004115, -1.91734099, -0.77760661, -0.18442163,\n",
       "       -2.06694365,  2.21084213,  3.68211508,  0.13284671, -0.28747407,\n",
       "       -1.70370269,  0.15743254, -2.39285946, -5.55231762,  1.00314343,\n",
       "       -0.28155783,  2.75742888,  2.67595792, -0.44148862, -1.81365955])"
      ]
     },
     "execution_count": 64,
     "metadata": {},
     "output_type": "execute_result"
    }
   ],
   "source": [
    "encodings[1000,:]"
   ]
  },
  {
   "cell_type": "code",
   "execution_count": null,
   "metadata": {},
   "outputs": [],
   "source": []
  }
 ],
 "metadata": {
  "kernelspec": {
   "display_name": "Python 3",
   "language": "python",
   "name": "python3"
  },
  "language_info": {
   "codemirror_mode": {
    "name": "ipython",
    "version": 3
   },
   "file_extension": ".py",
   "mimetype": "text/x-python",
   "name": "python",
   "nbconvert_exporter": "python",
   "pygments_lexer": "ipython3",
   "version": "3.6.5"
  }
 },
 "nbformat": 4,
 "nbformat_minor": 2
}
