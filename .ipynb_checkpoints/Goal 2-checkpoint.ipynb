{
 "cells": [
  {
   "cell_type": "code",
   "execution_count": 1,
   "metadata": {},
   "outputs": [
    {
     "name": "stderr",
     "output_type": "stream",
     "text": [
      "/Users/kompa/anaconda3/lib/python3.6/site-packages/h5py/__init__.py:36: FutureWarning: Conversion of the second argument of issubdtype from `float` to `np.floating` is deprecated. In future, it will be treated as `np.float64 == np.dtype(float).type`.\n",
      "  from ._conv import register_converters as _register_converters\n"
     ]
    }
   ],
   "source": [
    "import numpy as np\n",
    "\n",
    "import torch\n",
    "import h5py\n",
    "\n",
    "import matplotlib.pyplot as plt\n",
    "\n",
    "%matplotlib inline"
   ]
  },
  {
   "cell_type": "markdown",
   "metadata": {},
   "source": [
    "## Read data\n",
    "\n",
    "- X = gene expression data\n",
    "- y = 1/0 label for cancerous / not cancerous \n",
    "- cancer = string label of cancer type"
   ]
  },
  {
   "cell_type": "code",
   "execution_count": 90,
   "metadata": {},
   "outputs": [],
   "source": [
    "## Training data\n",
    "tcga = h5py.File('data/tcga_01.h5', mode='r') \n",
    "u_cancers = list(tcga['tcga/train'])\n",
    "\n",
    "X = np.vstack(list([tcga['tcga/train/'+c] for c in u_cancers]))\n",
    "cancer = np.array([c for c in u_cancers for i in range(tcga['tcga/train/'+c].shape[0])])\n",
    "\n",
    "# Labels\n",
    "tcga_labels = h5py.File('data/tcga_01_labels.h5', mode='r') \n",
    "y = np.concatenate([list(tcga_labels['tcga/train/'+c]) for c in u_cancers])"
   ]
  },
  {
   "cell_type": "code",
   "execution_count": 91,
   "metadata": {},
   "outputs": [],
   "source": [
    "## Test data\n",
    "#tcga = h5py.File('data/tcga_01.h5', mode='r') \n",
    "u_cancers = list(tcga['tcga/test'])\n",
    "\n",
    "X_test = np.vstack(list([tcga['tcga/test/'+c] for c in u_cancers]))\n",
    "cancer_test = np.array([c for c in u_cancers for i in range(tcga['tcga/test/'+c].shape[0])])\n",
    "\n",
    "# Labels\n",
    "#tcga_labels = h5py.File('data/tcga_01_labels.h5', mode='r') \n",
    "y_test = np.concatenate([list(tcga_labels['tcga/test/'+c]) for c in u_cancers])"
   ]
  },
  {
   "cell_type": "markdown",
   "metadata": {},
   "source": [
    "## EDA"
   ]
  },
  {
   "cell_type": "code",
   "execution_count": 6,
   "metadata": {},
   "outputs": [],
   "source": [
    "import pandas as pd"
   ]
  },
  {
   "cell_type": "code",
   "execution_count": 7,
   "metadata": {},
   "outputs": [],
   "source": [
    "df = pd.concat([\n",
    "    pd.DataFrame(y, columns=['y']),\n",
    "    pd.DataFrame(cancer, columns=['cancer'])\n",
    "],axis=1)"
   ]
  },
  {
   "cell_type": "code",
   "execution_count": 8,
   "metadata": {},
   "outputs": [
    {
     "data": {
      "text/html": [
       "<div>\n",
       "<style scoped>\n",
       "    .dataframe tbody tr th:only-of-type {\n",
       "        vertical-align: middle;\n",
       "    }\n",
       "\n",
       "    .dataframe tbody tr th {\n",
       "        vertical-align: top;\n",
       "    }\n",
       "\n",
       "    .dataframe thead tr th {\n",
       "        text-align: left;\n",
       "    }\n",
       "\n",
       "    .dataframe thead tr:last-of-type th {\n",
       "        text-align: right;\n",
       "    }\n",
       "</style>\n",
       "<table border=\"1\" class=\"dataframe\">\n",
       "  <thead>\n",
       "    <tr>\n",
       "      <th></th>\n",
       "      <th colspan=\"2\" halign=\"left\">y</th>\n",
       "    </tr>\n",
       "    <tr>\n",
       "      <th></th>\n",
       "      <th>mean</th>\n",
       "      <th>count</th>\n",
       "    </tr>\n",
       "    <tr>\n",
       "      <th>cancer</th>\n",
       "      <th></th>\n",
       "      <th></th>\n",
       "    </tr>\n",
       "  </thead>\n",
       "  <tbody>\n",
       "    <tr>\n",
       "      <th>chol</th>\n",
       "      <td>0.838710</td>\n",
       "      <td>31</td>\n",
       "    </tr>\n",
       "    <tr>\n",
       "      <th>dlbc</th>\n",
       "      <td>1.000000</td>\n",
       "      <td>34</td>\n",
       "    </tr>\n",
       "    <tr>\n",
       "      <th>ucs</th>\n",
       "      <td>1.000000</td>\n",
       "      <td>40</td>\n",
       "    </tr>\n",
       "    <tr>\n",
       "      <th>read</th>\n",
       "      <td>1.000000</td>\n",
       "      <td>50</td>\n",
       "    </tr>\n",
       "    <tr>\n",
       "      <th>acc</th>\n",
       "      <td>1.000000</td>\n",
       "      <td>55</td>\n",
       "    </tr>\n",
       "    <tr>\n",
       "      <th>uvm</th>\n",
       "      <td>1.000000</td>\n",
       "      <td>56</td>\n",
       "    </tr>\n",
       "    <tr>\n",
       "      <th>meso</th>\n",
       "      <td>1.000000</td>\n",
       "      <td>61</td>\n",
       "    </tr>\n",
       "    <tr>\n",
       "      <th>kich</th>\n",
       "      <td>0.671875</td>\n",
       "      <td>64</td>\n",
       "    </tr>\n",
       "    <tr>\n",
       "      <th>thym</th>\n",
       "      <td>0.976471</td>\n",
       "      <td>85</td>\n",
       "    </tr>\n",
       "    <tr>\n",
       "      <th>tgct</th>\n",
       "      <td>1.000000</td>\n",
       "      <td>97</td>\n",
       "    </tr>\n",
       "    <tr>\n",
       "      <th>gbm</th>\n",
       "      <td>1.000000</td>\n",
       "      <td>116</td>\n",
       "    </tr>\n",
       "    <tr>\n",
       "      <th>laml</th>\n",
       "      <td>1.000000</td>\n",
       "      <td>121</td>\n",
       "    </tr>\n",
       "    <tr>\n",
       "      <th>paad</th>\n",
       "      <td>0.976562</td>\n",
       "      <td>128</td>\n",
       "    </tr>\n",
       "    <tr>\n",
       "      <th>pcpg</th>\n",
       "      <td>0.977099</td>\n",
       "      <td>131</td>\n",
       "    </tr>\n",
       "    <tr>\n",
       "      <th>coad</th>\n",
       "      <td>1.000000</td>\n",
       "      <td>134</td>\n",
       "    </tr>\n",
       "    <tr>\n",
       "      <th>esca</th>\n",
       "      <td>0.941606</td>\n",
       "      <td>137</td>\n",
       "    </tr>\n",
       "    <tr>\n",
       "      <th>sarc</th>\n",
       "      <td>0.994624</td>\n",
       "      <td>186</td>\n",
       "    </tr>\n",
       "    <tr>\n",
       "      <th>ov</th>\n",
       "      <td>1.000000</td>\n",
       "      <td>215</td>\n",
       "    </tr>\n",
       "    <tr>\n",
       "      <th>cesc</th>\n",
       "      <td>0.990741</td>\n",
       "      <td>216</td>\n",
       "    </tr>\n",
       "    <tr>\n",
       "      <th>kirp</th>\n",
       "      <td>0.911504</td>\n",
       "      <td>226</td>\n",
       "    </tr>\n",
       "    <tr>\n",
       "      <th>ucec</th>\n",
       "      <td>0.969925</td>\n",
       "      <td>266</td>\n",
       "    </tr>\n",
       "    <tr>\n",
       "      <th>lihc</th>\n",
       "      <td>0.871622</td>\n",
       "      <td>296</td>\n",
       "    </tr>\n",
       "    <tr>\n",
       "      <th>blca</th>\n",
       "      <td>0.956522</td>\n",
       "      <td>299</td>\n",
       "    </tr>\n",
       "    <tr>\n",
       "      <th>stad</th>\n",
       "      <td>0.904762</td>\n",
       "      <td>315</td>\n",
       "    </tr>\n",
       "    <tr>\n",
       "      <th>skcm</th>\n",
       "      <td>1.000000</td>\n",
       "      <td>331</td>\n",
       "    </tr>\n",
       "    <tr>\n",
       "      <th>lgg</th>\n",
       "      <td>1.000000</td>\n",
       "      <td>371</td>\n",
       "    </tr>\n",
       "    <tr>\n",
       "      <th>prad</th>\n",
       "      <td>0.896104</td>\n",
       "      <td>385</td>\n",
       "    </tr>\n",
       "    <tr>\n",
       "      <th>lusc</th>\n",
       "      <td>0.893782</td>\n",
       "      <td>386</td>\n",
       "    </tr>\n",
       "    <tr>\n",
       "      <th>hnsc</th>\n",
       "      <td>0.919192</td>\n",
       "      <td>396</td>\n",
       "    </tr>\n",
       "    <tr>\n",
       "      <th>thca</th>\n",
       "      <td>0.891960</td>\n",
       "      <td>398</td>\n",
       "    </tr>\n",
       "    <tr>\n",
       "      <th>luad</th>\n",
       "      <td>0.888337</td>\n",
       "      <td>403</td>\n",
       "    </tr>\n",
       "    <tr>\n",
       "      <th>kirc</th>\n",
       "      <td>0.879717</td>\n",
       "      <td>424</td>\n",
       "    </tr>\n",
       "    <tr>\n",
       "      <th>brca</th>\n",
       "      <td>0.908019</td>\n",
       "      <td>848</td>\n",
       "    </tr>\n",
       "  </tbody>\n",
       "</table>\n",
       "</div>"
      ],
      "text/plain": [
       "               y      \n",
       "            mean count\n",
       "cancer                \n",
       "chol    0.838710    31\n",
       "dlbc    1.000000    34\n",
       "ucs     1.000000    40\n",
       "read    1.000000    50\n",
       "acc     1.000000    55\n",
       "uvm     1.000000    56\n",
       "meso    1.000000    61\n",
       "kich    0.671875    64\n",
       "thym    0.976471    85\n",
       "tgct    1.000000    97\n",
       "gbm     1.000000   116\n",
       "laml    1.000000   121\n",
       "paad    0.976562   128\n",
       "pcpg    0.977099   131\n",
       "coad    1.000000   134\n",
       "esca    0.941606   137\n",
       "sarc    0.994624   186\n",
       "ov      1.000000   215\n",
       "cesc    0.990741   216\n",
       "kirp    0.911504   226\n",
       "ucec    0.969925   266\n",
       "lihc    0.871622   296\n",
       "blca    0.956522   299\n",
       "stad    0.904762   315\n",
       "skcm    1.000000   331\n",
       "lgg     1.000000   371\n",
       "prad    0.896104   385\n",
       "lusc    0.893782   386\n",
       "hnsc    0.919192   396\n",
       "thca    0.891960   398\n",
       "luad    0.888337   403\n",
       "kirc    0.879717   424\n",
       "brca    0.908019   848"
      ]
     },
     "execution_count": 8,
     "metadata": {},
     "output_type": "execute_result"
    }
   ],
   "source": [
    "cancer_summary = df.groupby('cancer').agg({'y': ['mean','count']}).sort_values(by=[('y','count'),('y','mean')], ascending=True)\n",
    "\n",
    "cancer_summary"
   ]
  },
  {
   "cell_type": "markdown",
   "metadata": {},
   "source": [
    "#### Accuracy from predicting cancerous always"
   ]
  },
  {
   "cell_type": "code",
   "execution_count": 7,
   "metadata": {},
   "outputs": [
    {
     "data": {
      "text/plain": [
       "0.9337077112724285"
      ]
     },
     "execution_count": 7,
     "metadata": {},
     "output_type": "execute_result"
    }
   ],
   "source": [
    "np.mean(y)"
   ]
  },
  {
   "cell_type": "code",
   "execution_count": 8,
   "metadata": {},
   "outputs": [
    {
     "data": {
      "text/plain": [
       "0.9477468839884947"
      ]
     },
     "execution_count": 8,
     "metadata": {},
     "output_type": "execute_result"
    }
   ],
   "source": [
    "np.mean(y_test)"
   ]
  },
  {
   "cell_type": "markdown",
   "metadata": {},
   "source": [
    "#### UMAP"
   ]
  },
  {
   "cell_type": "code",
   "execution_count": 65,
   "metadata": {},
   "outputs": [],
   "source": [
    "from umap import UMAP"
   ]
  },
  {
   "cell_type": "code",
   "execution_count": 104,
   "metadata": {
    "collapsed": true
   },
   "outputs": [],
   "source": [
    "c = 'chol'\n",
    "\n",
    "idx_c = np.where(cancer==c)[0]\n",
    "\n",
    "Xc = X[idx_c, :]\n",
    "yc = y[idx_c]"
   ]
  },
  {
   "cell_type": "code",
   "execution_count": 105,
   "metadata": {},
   "outputs": [
    {
     "name": "stdout",
     "output_type": "stream",
     "text": [
      "UMAP(a=None, angular_rp_forest=False, b=None, init='spectral',\n",
      "   learning_rate=1.0, local_connectivity=1.0, metric='euclidean',\n",
      "   metric_kwds=None, min_dist=0.1, n_components=2, n_epochs=None,\n",
      "   n_neighbors=15, negative_sample_rate=5, random_state=None,\n",
      "   repulsion_strength=1.0, set_op_mix_ratio=1.0, spread=1.0,\n",
      "   target_metric='categorical', target_metric_kwds=None,\n",
      "   target_n_neighbors=-1, target_weight=0.5, transform_queue_size=4.0,\n",
      "   transform_seed=42, verbose=True)\n",
      "Construct fuzzy simplicial set\n",
      "Construct embedding\n",
      "\tcompleted  0  /  500 epochs\n",
      "\tcompleted  50  /  500 epochs\n",
      "\tcompleted  100  /  500 epochs\n",
      "\tcompleted  150  /  500 epochs\n",
      "\tcompleted  200  /  500 epochs\n",
      "\tcompleted  250  /  500 epochs\n",
      "\tcompleted  300  /  500 epochs\n",
      "\tcompleted  350  /  500 epochs\n",
      "\tcompleted  400  /  500 epochs\n",
      "\tcompleted  450  /  500 epochs\n"
     ]
    }
   ],
   "source": [
    "Zc = UMAP(n_components=2, verbose=True).fit_transform(Xc)"
   ]
  },
  {
   "cell_type": "code",
   "execution_count": 106,
   "metadata": {},
   "outputs": [
    {
     "data": {
      "text/plain": [
       "<matplotlib.text.Text at 0x112dbc9b0>"
      ]
     },
     "execution_count": 106,
     "metadata": {},
     "output_type": "execute_result"
    },
    {
     "data": {
      "image/png": "[encoded data removed]",
      "text/plain": [
       "<matplotlib.figure.Figure at 0x135922ba8>"
      ]
     },
     "metadata": {},
     "output_type": "display_data"
    }
   ],
   "source": [
    "fig, ax = plt.subplots(figsize=(5,5))\n",
    "\n",
    "ax.scatter(Zc[yc==1,0],Zc[yc==1,1])\n",
    "ax.scatter(Zc[yc==0,0],Zc[yc==0,1])\n",
    "ax.legend(['cancerours','not cancerous'])\n",
    "ax.set_title(c)"
   ]
  },
  {
   "cell_type": "markdown",
   "metadata": {},
   "source": [
    "## Classification for single cancer"
   ]
  },
  {
   "cell_type": "code",
   "execution_count": 9,
   "metadata": {},
   "outputs": [],
   "source": [
    "from sklearn.ensemble import RandomForestClassifier"
   ]
  },
  {
   "cell_type": "code",
   "execution_count": 10,
   "metadata": {},
   "outputs": [],
   "source": [
    "c = 'chol'\n",
    "\n",
    "idx_c = np.where(cancer==c)[0]\n",
    "\n",
    "Xc = X[idx_c, :]\n",
    "yc = y[idx_c]"
   ]
  },
  {
   "cell_type": "code",
   "execution_count": 11,
   "metadata": {},
   "outputs": [
    {
     "data": {
      "text/plain": [
       "RandomForestClassifier(bootstrap=True, class_weight=None, criterion='gini',\n",
       "            max_depth=2, max_features='auto', max_leaf_nodes=None,\n",
       "            min_impurity_decrease=0.0, min_impurity_split=None,\n",
       "            min_samples_leaf=1, min_samples_split=2,\n",
       "            min_weight_fraction_leaf=0.0, n_estimators=100, n_jobs=1,\n",
       "            oob_score=False, random_state=0, verbose=0, warm_start=False)"
      ]
     },
     "execution_count": 11,
     "metadata": {},
     "output_type": "execute_result"
    }
   ],
   "source": [
    "clf = RandomForestClassifier(n_estimators=100, max_depth=2,\n",
    "                             random_state=0)\n",
    "clf.fit(X, y)"
   ]
  },
  {
   "cell_type": "code",
   "execution_count": 12,
   "metadata": {},
   "outputs": [
    {
     "data": {
      "text/plain": [
       "RandomForestClassifier(bootstrap=True, class_weight=None, criterion='gini',\n",
       "            max_depth=2, max_features='auto', max_leaf_nodes=None,\n",
       "            min_impurity_decrease=0.0, min_impurity_split=None,\n",
       "            min_samples_leaf=1, min_samples_split=2,\n",
       "            min_weight_fraction_leaf=0.0, n_estimators=100, n_jobs=1,\n",
       "            oob_score=False, random_state=0, verbose=0, warm_start=False)"
      ]
     },
     "execution_count": 12,
     "metadata": {},
     "output_type": "execute_result"
    }
   ],
   "source": [
    "clf = RandomForestClassifier(n_estimators=100, max_depth=2, random_state=0)\n",
    "clf.fit(Xc, yc)"
   ]
  },
  {
   "cell_type": "code",
   "execution_count": 13,
   "metadata": {},
   "outputs": [
    {
     "data": {
      "text/plain": [
       "1.0"
      ]
     },
     "execution_count": 13,
     "metadata": {},
     "output_type": "execute_result"
    }
   ],
   "source": [
    "clf.score(Xc,yc)"
   ]
  },
  {
   "cell_type": "markdown",
   "metadata": {},
   "source": [
    "## Try classifying all cancer types"
   ]
  },
  {
   "cell_type": "code",
   "execution_count": 11,
   "metadata": {},
   "outputs": [
    {
     "data": {
      "text/html": [
       "<div>\n",
       "<style scoped>\n",
       "    .dataframe tbody tr th:only-of-type {\n",
       "        vertical-align: middle;\n",
       "    }\n",
       "\n",
       "    .dataframe tbody tr th {\n",
       "        vertical-align: top;\n",
       "    }\n",
       "\n",
       "    .dataframe thead tr th {\n",
       "        text-align: left;\n",
       "    }\n",
       "\n",
       "    .dataframe thead tr:last-of-type th {\n",
       "        text-align: right;\n",
       "    }\n",
       "</style>\n",
       "<table border=\"1\" class=\"dataframe\">\n",
       "  <thead>\n",
       "    <tr>\n",
       "      <th></th>\n",
       "      <th colspan=\"2\" halign=\"left\">y</th>\n",
       "    </tr>\n",
       "    <tr>\n",
       "      <th></th>\n",
       "      <th>mean</th>\n",
       "      <th>count</th>\n",
       "    </tr>\n",
       "    <tr>\n",
       "      <th>cancer</th>\n",
       "      <th></th>\n",
       "      <th></th>\n",
       "    </tr>\n",
       "  </thead>\n",
       "  <tbody>\n",
       "    <tr>\n",
       "      <th>chol</th>\n",
       "      <td>0.838710</td>\n",
       "      <td>31</td>\n",
       "    </tr>\n",
       "    <tr>\n",
       "      <th>dlbc</th>\n",
       "      <td>1.000000</td>\n",
       "      <td>34</td>\n",
       "    </tr>\n",
       "    <tr>\n",
       "      <th>ucs</th>\n",
       "      <td>1.000000</td>\n",
       "      <td>40</td>\n",
       "    </tr>\n",
       "    <tr>\n",
       "      <th>read</th>\n",
       "      <td>1.000000</td>\n",
       "      <td>50</td>\n",
       "    </tr>\n",
       "    <tr>\n",
       "      <th>acc</th>\n",
       "      <td>1.000000</td>\n",
       "      <td>55</td>\n",
       "    </tr>\n",
       "    <tr>\n",
       "      <th>uvm</th>\n",
       "      <td>1.000000</td>\n",
       "      <td>56</td>\n",
       "    </tr>\n",
       "    <tr>\n",
       "      <th>meso</th>\n",
       "      <td>1.000000</td>\n",
       "      <td>61</td>\n",
       "    </tr>\n",
       "    <tr>\n",
       "      <th>kich</th>\n",
       "      <td>0.671875</td>\n",
       "      <td>64</td>\n",
       "    </tr>\n",
       "    <tr>\n",
       "      <th>thym</th>\n",
       "      <td>0.976471</td>\n",
       "      <td>85</td>\n",
       "    </tr>\n",
       "    <tr>\n",
       "      <th>tgct</th>\n",
       "      <td>1.000000</td>\n",
       "      <td>97</td>\n",
       "    </tr>\n",
       "    <tr>\n",
       "      <th>gbm</th>\n",
       "      <td>1.000000</td>\n",
       "      <td>116</td>\n",
       "    </tr>\n",
       "    <tr>\n",
       "      <th>laml</th>\n",
       "      <td>1.000000</td>\n",
       "      <td>121</td>\n",
       "    </tr>\n",
       "    <tr>\n",
       "      <th>paad</th>\n",
       "      <td>0.976562</td>\n",
       "      <td>128</td>\n",
       "    </tr>\n",
       "    <tr>\n",
       "      <th>pcpg</th>\n",
       "      <td>0.977099</td>\n",
       "      <td>131</td>\n",
       "    </tr>\n",
       "    <tr>\n",
       "      <th>coad</th>\n",
       "      <td>1.000000</td>\n",
       "      <td>134</td>\n",
       "    </tr>\n",
       "    <tr>\n",
       "      <th>esca</th>\n",
       "      <td>0.941606</td>\n",
       "      <td>137</td>\n",
       "    </tr>\n",
       "    <tr>\n",
       "      <th>sarc</th>\n",
       "      <td>0.994624</td>\n",
       "      <td>186</td>\n",
       "    </tr>\n",
       "    <tr>\n",
       "      <th>ov</th>\n",
       "      <td>1.000000</td>\n",
       "      <td>215</td>\n",
       "    </tr>\n",
       "    <tr>\n",
       "      <th>cesc</th>\n",
       "      <td>0.990741</td>\n",
       "      <td>216</td>\n",
       "    </tr>\n",
       "    <tr>\n",
       "      <th>kirp</th>\n",
       "      <td>0.911504</td>\n",
       "      <td>226</td>\n",
       "    </tr>\n",
       "    <tr>\n",
       "      <th>ucec</th>\n",
       "      <td>0.969925</td>\n",
       "      <td>266</td>\n",
       "    </tr>\n",
       "    <tr>\n",
       "      <th>lihc</th>\n",
       "      <td>0.871622</td>\n",
       "      <td>296</td>\n",
       "    </tr>\n",
       "    <tr>\n",
       "      <th>blca</th>\n",
       "      <td>0.956522</td>\n",
       "      <td>299</td>\n",
       "    </tr>\n",
       "    <tr>\n",
       "      <th>stad</th>\n",
       "      <td>0.904762</td>\n",
       "      <td>315</td>\n",
       "    </tr>\n",
       "    <tr>\n",
       "      <th>skcm</th>\n",
       "      <td>1.000000</td>\n",
       "      <td>331</td>\n",
       "    </tr>\n",
       "    <tr>\n",
       "      <th>lgg</th>\n",
       "      <td>1.000000</td>\n",
       "      <td>371</td>\n",
       "    </tr>\n",
       "    <tr>\n",
       "      <th>prad</th>\n",
       "      <td>0.896104</td>\n",
       "      <td>385</td>\n",
       "    </tr>\n",
       "    <tr>\n",
       "      <th>lusc</th>\n",
       "      <td>0.893782</td>\n",
       "      <td>386</td>\n",
       "    </tr>\n",
       "    <tr>\n",
       "      <th>hnsc</th>\n",
       "      <td>0.919192</td>\n",
       "      <td>396</td>\n",
       "    </tr>\n",
       "    <tr>\n",
       "      <th>thca</th>\n",
       "      <td>0.891960</td>\n",
       "      <td>398</td>\n",
       "    </tr>\n",
       "    <tr>\n",
       "      <th>luad</th>\n",
       "      <td>0.888337</td>\n",
       "      <td>403</td>\n",
       "    </tr>\n",
       "    <tr>\n",
       "      <th>kirc</th>\n",
       "      <td>0.879717</td>\n",
       "      <td>424</td>\n",
       "    </tr>\n",
       "    <tr>\n",
       "      <th>brca</th>\n",
       "      <td>0.908019</td>\n",
       "      <td>848</td>\n",
       "    </tr>\n",
       "  </tbody>\n",
       "</table>\n",
       "</div>"
      ],
      "text/plain": [
       "               y      \n",
       "            mean count\n",
       "cancer                \n",
       "chol    0.838710    31\n",
       "dlbc    1.000000    34\n",
       "ucs     1.000000    40\n",
       "read    1.000000    50\n",
       "acc     1.000000    55\n",
       "uvm     1.000000    56\n",
       "meso    1.000000    61\n",
       "kich    0.671875    64\n",
       "thym    0.976471    85\n",
       "tgct    1.000000    97\n",
       "gbm     1.000000   116\n",
       "laml    1.000000   121\n",
       "paad    0.976562   128\n",
       "pcpg    0.977099   131\n",
       "coad    1.000000   134\n",
       "esca    0.941606   137\n",
       "sarc    0.994624   186\n",
       "ov      1.000000   215\n",
       "cesc    0.990741   216\n",
       "kirp    0.911504   226\n",
       "ucec    0.969925   266\n",
       "lihc    0.871622   296\n",
       "blca    0.956522   299\n",
       "stad    0.904762   315\n",
       "skcm    1.000000   331\n",
       "lgg     1.000000   371\n",
       "prad    0.896104   385\n",
       "lusc    0.893782   386\n",
       "hnsc    0.919192   396\n",
       "thca    0.891960   398\n",
       "luad    0.888337   403\n",
       "kirc    0.879717   424\n",
       "brca    0.908019   848"
      ]
     },
     "execution_count": 11,
     "metadata": {},
     "output_type": "execute_result"
    }
   ],
   "source": [
    "#cancer_use = cancer_summary[cancer_summary[('y','mean')] <= .95]\n",
    "cancer_use = cancer_summary # Use this if you want to compare to all domain classifier \n",
    "\n",
    "cancer_use"
   ]
  },
  {
   "cell_type": "code",
   "execution_count": 12,
   "metadata": {},
   "outputs": [],
   "source": [
    "#unbalanced\n",
    "cancer_clfs = list(cancer_use.index.values.astype(str))\n",
    "\n",
    "acc = np.full((len(cancer_clfs),2), np.nan)\n",
    "clfs = list()\n",
    "\n",
    "for i,c in enumerate(cancer_clfs):\n",
    "    \n",
    "    # Subset data\n",
    "    idx_c = np.where(cancer==c)[0]\n",
    "    Xc = X[idx_c, :]\n",
    "    yc = y[idx_c]\n",
    "    \n",
    "    idx_c = np.where(cancer_test==c)[0]\n",
    "    Xc_test = X_test[idx_c, :]\n",
    "    yc_test = y_test[idx_c]\n",
    "\n",
    "    # Run RF\n",
    "    clf = RandomForestClassifier(n_estimators=100, max_depth=2, random_state=0)\n",
    "    clf.fit(Xc, yc)\n",
    "    \n",
    "    clfs.append(clf)\n",
    "    acc[i,:] = (clf.score(Xc,yc), clf.score(Xc_test,yc_test))"
   ]
  },
  {
   "cell_type": "code",
   "execution_count": 13,
   "metadata": {},
   "outputs": [
    {
     "data": {
      "text/html": [
       "<div>\n",
       "<style scoped>\n",
       "    .dataframe tbody tr th:only-of-type {\n",
       "        vertical-align: middle;\n",
       "    }\n",
       "\n",
       "    .dataframe tbody tr th {\n",
       "        vertical-align: top;\n",
       "    }\n",
       "\n",
       "    .dataframe thead th {\n",
       "        text-align: right;\n",
       "    }\n",
       "</style>\n",
       "<table border=\"1\" class=\"dataframe\">\n",
       "  <thead>\n",
       "    <tr style=\"text-align: right;\">\n",
       "      <th></th>\n",
       "      <th>(y, mean)</th>\n",
       "      <th>(y, count)</th>\n",
       "      <th>acc_train</th>\n",
       "      <th>acc_test</th>\n",
       "    </tr>\n",
       "    <tr>\n",
       "      <th>cancer</th>\n",
       "      <th></th>\n",
       "      <th></th>\n",
       "      <th></th>\n",
       "      <th></th>\n",
       "    </tr>\n",
       "  </thead>\n",
       "  <tbody>\n",
       "    <tr>\n",
       "      <th>chol</th>\n",
       "      <td>0.838710</td>\n",
       "      <td>31</td>\n",
       "      <td>1.000000</td>\n",
       "      <td>1.000000</td>\n",
       "    </tr>\n",
       "    <tr>\n",
       "      <th>dlbc</th>\n",
       "      <td>1.000000</td>\n",
       "      <td>34</td>\n",
       "      <td>1.000000</td>\n",
       "      <td>1.000000</td>\n",
       "    </tr>\n",
       "    <tr>\n",
       "      <th>ucs</th>\n",
       "      <td>1.000000</td>\n",
       "      <td>40</td>\n",
       "      <td>1.000000</td>\n",
       "      <td>1.000000</td>\n",
       "    </tr>\n",
       "    <tr>\n",
       "      <th>read</th>\n",
       "      <td>1.000000</td>\n",
       "      <td>50</td>\n",
       "      <td>1.000000</td>\n",
       "      <td>1.000000</td>\n",
       "    </tr>\n",
       "    <tr>\n",
       "      <th>acc</th>\n",
       "      <td>1.000000</td>\n",
       "      <td>55</td>\n",
       "      <td>1.000000</td>\n",
       "      <td>1.000000</td>\n",
       "    </tr>\n",
       "    <tr>\n",
       "      <th>uvm</th>\n",
       "      <td>1.000000</td>\n",
       "      <td>56</td>\n",
       "      <td>1.000000</td>\n",
       "      <td>1.000000</td>\n",
       "    </tr>\n",
       "    <tr>\n",
       "      <th>meso</th>\n",
       "      <td>1.000000</td>\n",
       "      <td>61</td>\n",
       "      <td>1.000000</td>\n",
       "      <td>1.000000</td>\n",
       "    </tr>\n",
       "    <tr>\n",
       "      <th>kich</th>\n",
       "      <td>0.671875</td>\n",
       "      <td>64</td>\n",
       "      <td>1.000000</td>\n",
       "      <td>1.000000</td>\n",
       "    </tr>\n",
       "    <tr>\n",
       "      <th>thym</th>\n",
       "      <td>0.976471</td>\n",
       "      <td>85</td>\n",
       "      <td>1.000000</td>\n",
       "      <td>1.000000</td>\n",
       "    </tr>\n",
       "    <tr>\n",
       "      <th>tgct</th>\n",
       "      <td>1.000000</td>\n",
       "      <td>97</td>\n",
       "      <td>1.000000</td>\n",
       "      <td>1.000000</td>\n",
       "    </tr>\n",
       "    <tr>\n",
       "      <th>gbm</th>\n",
       "      <td>1.000000</td>\n",
       "      <td>116</td>\n",
       "      <td>1.000000</td>\n",
       "      <td>1.000000</td>\n",
       "    </tr>\n",
       "    <tr>\n",
       "      <th>laml</th>\n",
       "      <td>1.000000</td>\n",
       "      <td>121</td>\n",
       "      <td>1.000000</td>\n",
       "      <td>1.000000</td>\n",
       "    </tr>\n",
       "    <tr>\n",
       "      <th>paad</th>\n",
       "      <td>0.976562</td>\n",
       "      <td>128</td>\n",
       "      <td>1.000000</td>\n",
       "      <td>0.972973</td>\n",
       "    </tr>\n",
       "    <tr>\n",
       "      <th>pcpg</th>\n",
       "      <td>0.977099</td>\n",
       "      <td>131</td>\n",
       "      <td>1.000000</td>\n",
       "      <td>1.000000</td>\n",
       "    </tr>\n",
       "    <tr>\n",
       "      <th>coad</th>\n",
       "      <td>1.000000</td>\n",
       "      <td>134</td>\n",
       "      <td>1.000000</td>\n",
       "      <td>1.000000</td>\n",
       "    </tr>\n",
       "    <tr>\n",
       "      <th>esca</th>\n",
       "      <td>0.941606</td>\n",
       "      <td>137</td>\n",
       "      <td>1.000000</td>\n",
       "      <td>1.000000</td>\n",
       "    </tr>\n",
       "    <tr>\n",
       "      <th>sarc</th>\n",
       "      <td>0.994624</td>\n",
       "      <td>186</td>\n",
       "      <td>1.000000</td>\n",
       "      <td>1.000000</td>\n",
       "    </tr>\n",
       "    <tr>\n",
       "      <th>ov</th>\n",
       "      <td>1.000000</td>\n",
       "      <td>215</td>\n",
       "      <td>1.000000</td>\n",
       "      <td>1.000000</td>\n",
       "    </tr>\n",
       "    <tr>\n",
       "      <th>cesc</th>\n",
       "      <td>0.990741</td>\n",
       "      <td>216</td>\n",
       "      <td>1.000000</td>\n",
       "      <td>1.000000</td>\n",
       "    </tr>\n",
       "    <tr>\n",
       "      <th>kirp</th>\n",
       "      <td>0.911504</td>\n",
       "      <td>226</td>\n",
       "      <td>1.000000</td>\n",
       "      <td>1.000000</td>\n",
       "    </tr>\n",
       "    <tr>\n",
       "      <th>ucec</th>\n",
       "      <td>0.969925</td>\n",
       "      <td>266</td>\n",
       "      <td>1.000000</td>\n",
       "      <td>0.986842</td>\n",
       "    </tr>\n",
       "    <tr>\n",
       "      <th>lihc</th>\n",
       "      <td>0.871622</td>\n",
       "      <td>296</td>\n",
       "      <td>1.000000</td>\n",
       "      <td>0.941176</td>\n",
       "    </tr>\n",
       "    <tr>\n",
       "      <th>blca</th>\n",
       "      <td>0.956522</td>\n",
       "      <td>299</td>\n",
       "      <td>0.989967</td>\n",
       "      <td>0.964706</td>\n",
       "    </tr>\n",
       "    <tr>\n",
       "      <th>stad</th>\n",
       "      <td>0.904762</td>\n",
       "      <td>315</td>\n",
       "      <td>0.990476</td>\n",
       "      <td>0.988889</td>\n",
       "    </tr>\n",
       "    <tr>\n",
       "      <th>skcm</th>\n",
       "      <td>1.000000</td>\n",
       "      <td>331</td>\n",
       "      <td>1.000000</td>\n",
       "      <td>1.000000</td>\n",
       "    </tr>\n",
       "    <tr>\n",
       "      <th>lgg</th>\n",
       "      <td>1.000000</td>\n",
       "      <td>371</td>\n",
       "      <td>1.000000</td>\n",
       "      <td>1.000000</td>\n",
       "    </tr>\n",
       "    <tr>\n",
       "      <th>prad</th>\n",
       "      <td>0.896104</td>\n",
       "      <td>385</td>\n",
       "      <td>0.976623</td>\n",
       "      <td>0.954545</td>\n",
       "    </tr>\n",
       "    <tr>\n",
       "      <th>lusc</th>\n",
       "      <td>0.893782</td>\n",
       "      <td>386</td>\n",
       "      <td>1.000000</td>\n",
       "      <td>0.990991</td>\n",
       "    </tr>\n",
       "    <tr>\n",
       "      <th>hnsc</th>\n",
       "      <td>0.919192</td>\n",
       "      <td>396</td>\n",
       "      <td>0.997475</td>\n",
       "      <td>0.964602</td>\n",
       "    </tr>\n",
       "    <tr>\n",
       "      <th>thca</th>\n",
       "      <td>0.891960</td>\n",
       "      <td>398</td>\n",
       "      <td>0.994975</td>\n",
       "      <td>0.973451</td>\n",
       "    </tr>\n",
       "    <tr>\n",
       "      <th>luad</th>\n",
       "      <td>0.888337</td>\n",
       "      <td>403</td>\n",
       "      <td>1.000000</td>\n",
       "      <td>0.973913</td>\n",
       "    </tr>\n",
       "    <tr>\n",
       "      <th>kirc</th>\n",
       "      <td>0.879717</td>\n",
       "      <td>424</td>\n",
       "      <td>0.997642</td>\n",
       "      <td>1.000000</td>\n",
       "    </tr>\n",
       "    <tr>\n",
       "      <th>brca</th>\n",
       "      <td>0.908019</td>\n",
       "      <td>848</td>\n",
       "      <td>0.994104</td>\n",
       "      <td>0.975309</td>\n",
       "    </tr>\n",
       "  </tbody>\n",
       "</table>\n",
       "</div>"
      ],
      "text/plain": [
       "        (y, mean)  (y, count)  acc_train  acc_test\n",
       "cancer                                            \n",
       "chol     0.838710          31   1.000000  1.000000\n",
       "dlbc     1.000000          34   1.000000  1.000000\n",
       "ucs      1.000000          40   1.000000  1.000000\n",
       "read     1.000000          50   1.000000  1.000000\n",
       "acc      1.000000          55   1.000000  1.000000\n",
       "uvm      1.000000          56   1.000000  1.000000\n",
       "meso     1.000000          61   1.000000  1.000000\n",
       "kich     0.671875          64   1.000000  1.000000\n",
       "thym     0.976471          85   1.000000  1.000000\n",
       "tgct     1.000000          97   1.000000  1.000000\n",
       "gbm      1.000000         116   1.000000  1.000000\n",
       "laml     1.000000         121   1.000000  1.000000\n",
       "paad     0.976562         128   1.000000  0.972973\n",
       "pcpg     0.977099         131   1.000000  1.000000\n",
       "coad     1.000000         134   1.000000  1.000000\n",
       "esca     0.941606         137   1.000000  1.000000\n",
       "sarc     0.994624         186   1.000000  1.000000\n",
       "ov       1.000000         215   1.000000  1.000000\n",
       "cesc     0.990741         216   1.000000  1.000000\n",
       "kirp     0.911504         226   1.000000  1.000000\n",
       "ucec     0.969925         266   1.000000  0.986842\n",
       "lihc     0.871622         296   1.000000  0.941176\n",
       "blca     0.956522         299   0.989967  0.964706\n",
       "stad     0.904762         315   0.990476  0.988889\n",
       "skcm     1.000000         331   1.000000  1.000000\n",
       "lgg      1.000000         371   1.000000  1.000000\n",
       "prad     0.896104         385   0.976623  0.954545\n",
       "lusc     0.893782         386   1.000000  0.990991\n",
       "hnsc     0.919192         396   0.997475  0.964602\n",
       "thca     0.891960         398   0.994975  0.973451\n",
       "luad     0.888337         403   1.000000  0.973913\n",
       "kirc     0.879717         424   0.997642  1.000000\n",
       "brca     0.908019         848   0.994104  0.975309"
      ]
     },
     "execution_count": 13,
     "metadata": {},
     "output_type": "execute_result"
    }
   ],
   "source": [
    "pd.concat([cancer_use, pd.DataFrame(acc, columns=['acc_train','acc_test'], index=cancer_use.index)],axis=1)"
   ]
  },
  {
   "cell_type": "code",
   "execution_count": 176,
   "metadata": {},
   "outputs": [],
   "source": [
    "#balanced\n",
    "cancer_clfs = list(cancer_use.index.values.astype(str))\n",
    "\n",
    "acc = np.full((len(cancer_clfs),2), np.nan)\n",
    "balanced_clfs = list()\n",
    "\n",
    "for i,c in enumerate(cancer_clfs):\n",
    "    \n",
    "    # Subset data\n",
    "    idx_c = np.where(cancer==c)[0]\n",
    "    Xc = X[idx_c, :]\n",
    "    yc = y[idx_c]\n",
    "    \n",
    "    idx_c = np.where(cancer_test==c)[0]\n",
    "    Xc_test = X_test[idx_c, :]\n",
    "    yc_test = y_test[idx_c]\n",
    "\n",
    "    # Run RF\n",
    "    clf = RandomForestClassifier(n_estimators=100, max_depth=2, random_state=0, class_weight='balanced')\n",
    "    clf.fit(Xc, yc)\n",
    "    \n",
    "    balanced_clfs.append(clf)\n",
    "    acc[i,:] = (clf.score(Xc,yc), clf.score(Xc_test,yc_test))"
   ]
  },
  {
   "cell_type": "code",
   "execution_count": 177,
   "metadata": {},
   "outputs": [
    {
     "data": {
      "text/html": [
       "<div>\n",
       "<style scoped>\n",
       "    .dataframe tbody tr th:only-of-type {\n",
       "        vertical-align: middle;\n",
       "    }\n",
       "\n",
       "    .dataframe tbody tr th {\n",
       "        vertical-align: top;\n",
       "    }\n",
       "\n",
       "    .dataframe thead th {\n",
       "        text-align: right;\n",
       "    }\n",
       "</style>\n",
       "<table border=\"1\" class=\"dataframe\">\n",
       "  <thead>\n",
       "    <tr style=\"text-align: right;\">\n",
       "      <th></th>\n",
       "      <th>(y, mean)</th>\n",
       "      <th>(y, count)</th>\n",
       "      <th>acc_train</th>\n",
       "      <th>acc_test</th>\n",
       "    </tr>\n",
       "    <tr>\n",
       "      <th>cancer</th>\n",
       "      <th></th>\n",
       "      <th></th>\n",
       "      <th></th>\n",
       "      <th></th>\n",
       "    </tr>\n",
       "  </thead>\n",
       "  <tbody>\n",
       "    <tr>\n",
       "      <th>chol</th>\n",
       "      <td>0.838710</td>\n",
       "      <td>31</td>\n",
       "      <td>1.000000</td>\n",
       "      <td>1.000000</td>\n",
       "    </tr>\n",
       "    <tr>\n",
       "      <th>dlbc</th>\n",
       "      <td>1.000000</td>\n",
       "      <td>34</td>\n",
       "      <td>1.000000</td>\n",
       "      <td>1.000000</td>\n",
       "    </tr>\n",
       "    <tr>\n",
       "      <th>ucs</th>\n",
       "      <td>1.000000</td>\n",
       "      <td>40</td>\n",
       "      <td>1.000000</td>\n",
       "      <td>1.000000</td>\n",
       "    </tr>\n",
       "    <tr>\n",
       "      <th>read</th>\n",
       "      <td>1.000000</td>\n",
       "      <td>50</td>\n",
       "      <td>1.000000</td>\n",
       "      <td>1.000000</td>\n",
       "    </tr>\n",
       "    <tr>\n",
       "      <th>acc</th>\n",
       "      <td>1.000000</td>\n",
       "      <td>55</td>\n",
       "      <td>1.000000</td>\n",
       "      <td>1.000000</td>\n",
       "    </tr>\n",
       "    <tr>\n",
       "      <th>uvm</th>\n",
       "      <td>1.000000</td>\n",
       "      <td>56</td>\n",
       "      <td>1.000000</td>\n",
       "      <td>1.000000</td>\n",
       "    </tr>\n",
       "    <tr>\n",
       "      <th>meso</th>\n",
       "      <td>1.000000</td>\n",
       "      <td>61</td>\n",
       "      <td>1.000000</td>\n",
       "      <td>1.000000</td>\n",
       "    </tr>\n",
       "    <tr>\n",
       "      <th>kich</th>\n",
       "      <td>0.671875</td>\n",
       "      <td>64</td>\n",
       "      <td>1.000000</td>\n",
       "      <td>1.000000</td>\n",
       "    </tr>\n",
       "    <tr>\n",
       "      <th>thym</th>\n",
       "      <td>0.976471</td>\n",
       "      <td>85</td>\n",
       "      <td>1.000000</td>\n",
       "      <td>1.000000</td>\n",
       "    </tr>\n",
       "    <tr>\n",
       "      <th>tgct</th>\n",
       "      <td>1.000000</td>\n",
       "      <td>97</td>\n",
       "      <td>1.000000</td>\n",
       "      <td>1.000000</td>\n",
       "    </tr>\n",
       "    <tr>\n",
       "      <th>gbm</th>\n",
       "      <td>1.000000</td>\n",
       "      <td>116</td>\n",
       "      <td>1.000000</td>\n",
       "      <td>1.000000</td>\n",
       "    </tr>\n",
       "    <tr>\n",
       "      <th>laml</th>\n",
       "      <td>1.000000</td>\n",
       "      <td>121</td>\n",
       "      <td>1.000000</td>\n",
       "      <td>1.000000</td>\n",
       "    </tr>\n",
       "    <tr>\n",
       "      <th>paad</th>\n",
       "      <td>0.976562</td>\n",
       "      <td>128</td>\n",
       "      <td>1.000000</td>\n",
       "      <td>0.972973</td>\n",
       "    </tr>\n",
       "    <tr>\n",
       "      <th>pcpg</th>\n",
       "      <td>0.977099</td>\n",
       "      <td>131</td>\n",
       "      <td>1.000000</td>\n",
       "      <td>1.000000</td>\n",
       "    </tr>\n",
       "    <tr>\n",
       "      <th>coad</th>\n",
       "      <td>1.000000</td>\n",
       "      <td>134</td>\n",
       "      <td>1.000000</td>\n",
       "      <td>1.000000</td>\n",
       "    </tr>\n",
       "    <tr>\n",
       "      <th>esca</th>\n",
       "      <td>0.941606</td>\n",
       "      <td>137</td>\n",
       "      <td>1.000000</td>\n",
       "      <td>1.000000</td>\n",
       "    </tr>\n",
       "    <tr>\n",
       "      <th>sarc</th>\n",
       "      <td>0.994624</td>\n",
       "      <td>186</td>\n",
       "      <td>1.000000</td>\n",
       "      <td>1.000000</td>\n",
       "    </tr>\n",
       "    <tr>\n",
       "      <th>ov</th>\n",
       "      <td>1.000000</td>\n",
       "      <td>215</td>\n",
       "      <td>1.000000</td>\n",
       "      <td>1.000000</td>\n",
       "    </tr>\n",
       "    <tr>\n",
       "      <th>cesc</th>\n",
       "      <td>0.990741</td>\n",
       "      <td>216</td>\n",
       "      <td>1.000000</td>\n",
       "      <td>1.000000</td>\n",
       "    </tr>\n",
       "    <tr>\n",
       "      <th>kirp</th>\n",
       "      <td>0.911504</td>\n",
       "      <td>226</td>\n",
       "      <td>1.000000</td>\n",
       "      <td>1.000000</td>\n",
       "    </tr>\n",
       "    <tr>\n",
       "      <th>ucec</th>\n",
       "      <td>0.969925</td>\n",
       "      <td>266</td>\n",
       "      <td>1.000000</td>\n",
       "      <td>0.986842</td>\n",
       "    </tr>\n",
       "    <tr>\n",
       "      <th>lihc</th>\n",
       "      <td>0.871622</td>\n",
       "      <td>296</td>\n",
       "      <td>0.996622</td>\n",
       "      <td>0.964706</td>\n",
       "    </tr>\n",
       "    <tr>\n",
       "      <th>blca</th>\n",
       "      <td>0.956522</td>\n",
       "      <td>299</td>\n",
       "      <td>1.000000</td>\n",
       "      <td>0.976471</td>\n",
       "    </tr>\n",
       "    <tr>\n",
       "      <th>stad</th>\n",
       "      <td>0.904762</td>\n",
       "      <td>315</td>\n",
       "      <td>1.000000</td>\n",
       "      <td>1.000000</td>\n",
       "    </tr>\n",
       "    <tr>\n",
       "      <th>skcm</th>\n",
       "      <td>1.000000</td>\n",
       "      <td>331</td>\n",
       "      <td>1.000000</td>\n",
       "      <td>1.000000</td>\n",
       "    </tr>\n",
       "    <tr>\n",
       "      <th>lgg</th>\n",
       "      <td>1.000000</td>\n",
       "      <td>371</td>\n",
       "      <td>1.000000</td>\n",
       "      <td>1.000000</td>\n",
       "    </tr>\n",
       "    <tr>\n",
       "      <th>prad</th>\n",
       "      <td>0.896104</td>\n",
       "      <td>385</td>\n",
       "      <td>0.976623</td>\n",
       "      <td>0.972727</td>\n",
       "    </tr>\n",
       "    <tr>\n",
       "      <th>lusc</th>\n",
       "      <td>0.893782</td>\n",
       "      <td>386</td>\n",
       "      <td>0.997409</td>\n",
       "      <td>0.990991</td>\n",
       "    </tr>\n",
       "    <tr>\n",
       "      <th>hnsc</th>\n",
       "      <td>0.919192</td>\n",
       "      <td>396</td>\n",
       "      <td>1.000000</td>\n",
       "      <td>0.991150</td>\n",
       "    </tr>\n",
       "    <tr>\n",
       "      <th>thca</th>\n",
       "      <td>0.891960</td>\n",
       "      <td>398</td>\n",
       "      <td>0.997487</td>\n",
       "      <td>0.991150</td>\n",
       "    </tr>\n",
       "    <tr>\n",
       "      <th>luad</th>\n",
       "      <td>0.888337</td>\n",
       "      <td>403</td>\n",
       "      <td>1.000000</td>\n",
       "      <td>0.973913</td>\n",
       "    </tr>\n",
       "    <tr>\n",
       "      <th>kirc</th>\n",
       "      <td>0.879717</td>\n",
       "      <td>424</td>\n",
       "      <td>0.997642</td>\n",
       "      <td>1.000000</td>\n",
       "    </tr>\n",
       "    <tr>\n",
       "      <th>brca</th>\n",
       "      <td>0.908019</td>\n",
       "      <td>848</td>\n",
       "      <td>0.995283</td>\n",
       "      <td>0.991770</td>\n",
       "    </tr>\n",
       "  </tbody>\n",
       "</table>\n",
       "</div>"
      ],
      "text/plain": [
       "        (y, mean)  (y, count)  acc_train  acc_test\n",
       "cancer                                            \n",
       "chol     0.838710          31   1.000000  1.000000\n",
       "dlbc     1.000000          34   1.000000  1.000000\n",
       "ucs      1.000000          40   1.000000  1.000000\n",
       "read     1.000000          50   1.000000  1.000000\n",
       "acc      1.000000          55   1.000000  1.000000\n",
       "uvm      1.000000          56   1.000000  1.000000\n",
       "meso     1.000000          61   1.000000  1.000000\n",
       "kich     0.671875          64   1.000000  1.000000\n",
       "thym     0.976471          85   1.000000  1.000000\n",
       "tgct     1.000000          97   1.000000  1.000000\n",
       "gbm      1.000000         116   1.000000  1.000000\n",
       "laml     1.000000         121   1.000000  1.000000\n",
       "paad     0.976562         128   1.000000  0.972973\n",
       "pcpg     0.977099         131   1.000000  1.000000\n",
       "coad     1.000000         134   1.000000  1.000000\n",
       "esca     0.941606         137   1.000000  1.000000\n",
       "sarc     0.994624         186   1.000000  1.000000\n",
       "ov       1.000000         215   1.000000  1.000000\n",
       "cesc     0.990741         216   1.000000  1.000000\n",
       "kirp     0.911504         226   1.000000  1.000000\n",
       "ucec     0.969925         266   1.000000  0.986842\n",
       "lihc     0.871622         296   0.996622  0.964706\n",
       "blca     0.956522         299   1.000000  0.976471\n",
       "stad     0.904762         315   1.000000  1.000000\n",
       "skcm     1.000000         331   1.000000  1.000000\n",
       "lgg      1.000000         371   1.000000  1.000000\n",
       "prad     0.896104         385   0.976623  0.972727\n",
       "lusc     0.893782         386   0.997409  0.990991\n",
       "hnsc     0.919192         396   1.000000  0.991150\n",
       "thca     0.891960         398   0.997487  0.991150\n",
       "luad     0.888337         403   1.000000  0.973913\n",
       "kirc     0.879717         424   0.997642  1.000000\n",
       "brca     0.908019         848   0.995283  0.991770"
      ]
     },
     "execution_count": 177,
     "metadata": {},
     "output_type": "execute_result"
    }
   ],
   "source": [
    "pd.concat([cancer_use, pd.DataFrame(acc, columns=['acc_train','acc_test'], index=cancer_use.index)],axis=1)"
   ]
  },
  {
   "cell_type": "markdown",
   "metadata": {},
   "source": [
    "## Classifier on entire dataset"
   ]
  },
  {
   "cell_type": "code",
   "execution_count": 173,
   "metadata": {},
   "outputs": [
    {
     "data": {
      "text/plain": [
       "RandomForestClassifier(bootstrap=True, class_weight='balanced',\n",
       "            criterion='gini', max_depth=2, max_features='auto',\n",
       "            max_leaf_nodes=None, min_impurity_decrease=0.0,\n",
       "            min_impurity_split=None, min_samples_leaf=1,\n",
       "            min_samples_split=2, min_weight_fraction_leaf=0.0,\n",
       "            n_estimators=100, n_jobs=1, oob_score=False, random_state=0,\n",
       "            verbose=0, warm_start=False)"
      ]
     },
     "execution_count": 173,
     "metadata": {},
     "output_type": "execute_result"
    }
   ],
   "source": [
    "clf_all = RandomForestClassifier(n_estimators=100, max_depth=2, random_state=0, class_weight='balanced')\n",
    "clf_all.fit(X, y)"
   ]
  },
  {
   "cell_type": "code",
   "execution_count": 174,
   "metadata": {},
   "outputs": [
    {
     "data": {
      "text/plain": [
       "0.9272702369538419"
      ]
     },
     "execution_count": 174,
     "metadata": {},
     "output_type": "execute_result"
    }
   ],
   "source": [
    "# Accuracy on training data\n",
    "#95.02 unblanced \n",
    "#92.72 balanced\n",
    "clf_all.score(X,y)"
   ]
  },
  {
   "cell_type": "code",
   "execution_count": 175,
   "metadata": {},
   "outputs": [
    {
     "data": {
      "text/plain": [
       "0.9074784276126558"
      ]
     },
     "execution_count": 175,
     "metadata": {},
     "output_type": "execute_result"
    }
   ],
   "source": [
    "# Accuracy on test data\n",
    "#95.87 unblanced\n",
    "#90.74 balanced \n",
    "clf_all.score(X_test,y_test)"
   ]
  },
  {
   "cell_type": "markdown",
   "metadata": {},
   "source": [
    "## Our method\n",
    "First identify cancer, then use cancer specific classifier"
   ]
  },
  {
   "cell_type": "markdown",
   "metadata": {},
   "source": [
    "#### Import trained VAE"
   ]
  },
  {
   "cell_type": "code",
   "execution_count": 17,
   "metadata": {},
   "outputs": [],
   "source": [
    "#import stuff \n",
    "import yaml\n",
    "import os\n",
    "import sys\n",
    "import shutil\n",
    "import numpy as np\n",
    "import torch\n",
    "import h5py\n",
    "\n",
    "from itertools import cycle\n",
    "\n",
    "from torch.backends import cudnn\n",
    "import torch.optim as optim\n",
    "import torch.nn as nn\n",
    "from torch.autograd import Variable, grad\n",
    "\n",
    "from src.data import LoadDataset\n",
    "from src.ufdn import LoadModel\n",
    "\n",
    "#We'll need to modify this for 3+ domains\n",
    "from src.util import vae_loss, calc_gradient_penalty, interpolate_vae_3d\n",
    "\n",
    "from tensorboardX import SummaryWriter "
   ]
  },
  {
   "cell_type": "code",
   "execution_count": 18,
   "metadata": {},
   "outputs": [],
   "source": [
    "#set this to the path of this yaml file \n",
    "#get it from my github branch \n",
    "config_path = 'config/tcga_domains.yaml'"
   ]
  },
  {
   "cell_type": "code",
   "execution_count": 19,
   "metadata": {},
   "outputs": [],
   "source": [
    "conf = yaml.load(open(config_path,'r'))\n",
    "exp_name = conf['exp_setting']['exp_name']\n",
    "#img_size is only used in conv nets\n",
    "#originally it was 64\n",
    "img_size = conf['exp_setting']['img_size']\n",
    "#20,501 img_depth\n",
    "img_depth = conf['exp_setting']['img_depth']\n",
    "domains = conf['exp_setting']['domains']\n",
    "number_of_domains = len(domains)\n",
    "\n",
    "\n",
    "data_root = conf['exp_setting']['data_root']\n",
    "batch_size = conf['trainer']['batch_size']\n",
    "\n",
    "\n",
    "enc_dim = conf['model']['vae']['encoder'][-1][1] #latent space dimension #100\n",
    "code_dim = conf['model']['vae']['code_dim'] #number of domains #currently 3 \n",
    "vae_learning_rate = conf['model']['vae']['lr'] #learning rate #10e-4\n",
    "vae_betas = tuple(conf['model']['vae']['betas']) #used for adam optimizer\n"
   ]
  },
  {
   "cell_type": "code",
   "execution_count": 20,
   "metadata": {},
   "outputs": [],
   "source": [
    "#load the model in a blank form \n",
    "vae = LoadModel('vae',conf['model']['vae'],img_size,img_depth)"
   ]
  },
  {
   "cell_type": "code",
   "execution_count": 21,
   "metadata": {},
   "outputs": [],
   "source": [
    "#load in the trained params\n",
    "#put statedict.pt in the same directory as this ipynb \n",
    "vae.load_state_dict(torch.load('statedict.pt'))"
   ]
  },
  {
   "cell_type": "code",
   "execution_count": 22,
   "metadata": {},
   "outputs": [
    {
     "data": {
      "text/plain": [
       "UFDN(\n",
       "  (enc_0): Sequential(\n",
       "    (0): Linear(in_features=20501, out_features=500, bias=True)\n",
       "    (1): BatchNorm1d(500, eps=1e-05, momentum=0.1, affine=True, track_running_stats=True)\n",
       "    (2): LeakyReLU(negative_slope=0.2)\n",
       "  )\n",
       "  (enc_mu): Sequential(\n",
       "    (0): Linear(in_features=500, out_features=100, bias=True)\n",
       "  )\n",
       "  (enc_logvar): Sequential(\n",
       "    (0): Linear(in_features=500, out_features=100, bias=True)\n",
       "  )\n",
       "  (dec_0): Sequential(\n",
       "    (0): Linear(in_features=133, out_features=500, bias=True)\n",
       "    (1): BatchNorm1d(500, eps=1e-05, momentum=0.1, affine=True, track_running_stats=True)\n",
       "    (2): LeakyReLU(negative_slope=0.2)\n",
       "  )\n",
       "  (dec_1): Sequential(\n",
       "    (0): Linear(in_features=500, out_features=20501, bias=True)\n",
       "  )\n",
       ")"
      ]
     },
     "execution_count": 22,
     "metadata": {},
     "output_type": "execute_result"
    }
   ],
   "source": [
    "#set to eval mode, very important (so it doesn't train)\n",
    "vae.eval()"
   ]
  },
  {
   "cell_type": "code",
   "execution_count": 23,
   "metadata": {},
   "outputs": [],
   "source": [
    "# Order of cancers for vae\n",
    "cancer_vae = ['brca',\n",
    "           'acc',\n",
    "           'blca',\n",
    "           'cesc',\n",
    "           'chol',\n",
    "           'coad',\n",
    "           'dlbc',\n",
    "           'esca',\n",
    "           'gbm',\n",
    "           'hnsc',\n",
    "           'kich',\n",
    "           'kirc',\n",
    "           'kirp',\n",
    "           'laml',\n",
    "           'lgg',\n",
    "           'lihc',\n",
    "           'luad',\n",
    "           'lusc',\n",
    "           'meso',\n",
    "           'ov',\n",
    "           'paad',\n",
    "           'pcpg',\n",
    "           'prad',\n",
    "           'read',\n",
    "           'sarc',\n",
    "           'skcm',\n",
    "           'stad',\n",
    "           'tgct',\n",
    "           'thca',\n",
    "           'thym',\n",
    "           'ucec',\n",
    "           'ucs',\n",
    "           'uvm']"
   ]
  },
  {
   "cell_type": "markdown",
   "metadata": {},
   "source": [
    "#### Now run method"
   ]
  },
  {
   "cell_type": "code",
   "execution_count": 280,
   "metadata": {
    "collapsed": true
   },
   "outputs": [],
   "source": [
    "def predict_cancer(x,vae,n_cancer):\n",
    "    '''\n",
    "    Predicts domain by encoding and then decoding to each domain\n",
    "    Domain with smallest RMSE reconstruction error is the predicted domain\n",
    "    '''\n",
    "    # Encode to latent space\n",
    "    enc = vae(Variable(torch.FloatTensor(x).unsqueeze(0)),return_enc=True).cpu().data.numpy().ravel()\n",
    "    \n",
    "    # Domain vectors (one for each domain)\n",
    "    alphas = np.identity(n_cancer)\n",
    "    alphas = [Variable(torch.FloatTensor(a).unsqueeze(0).expand((1, n_cancer))) for a in alphas]\n",
    "\n",
    "    # Decode to each domain\n",
    "    dec = [vae.decode(Variable(torch.FloatTensor(enc).unsqueeze(0)), alpha).data.numpy().ravel() \\\n",
    "       for alpha in alphas]\n",
    "    \n",
    "    # Return index of minum error domain\n",
    "    error = np.array([np.sqrt(np.mean((x-d)**2)) for d in dec])\n",
    "    return(np.argmin(error))\n",
    "\n",
    "def predict_cancerous(x, vae, cancer_vae, clfs, cancer_clfs):\n",
    "    '''\n",
    "    cancer_vae and cancer_clfs are ordered lists of the cancer types for the vae and classifiers \n",
    "    '''\n",
    "    \n",
    "    # Predict cancer (domain)\n",
    "    idx_vae = predict_cancer(x,vae,len(cancer_vae))\n",
    "    cancer_pred = cancer_vae[idx_vae]\n",
    "    \n",
    "    # Predict cancerous / not cancerous using domain specific classifier\n",
    "    idx_clfs = np.where(cancer_pred == np.array(cancer_clfs))[0][0]\n",
    "    y_pred = clfs[idx_clfs].predict(x.reshape(1,-1))[0]\n",
    "    \n",
    "    return(cancer_pred, y_pred)"
   ]
  },
  {
   "cell_type": "code",
   "execution_count": 162,
   "metadata": {},
   "outputs": [
    {
     "data": {
      "text/plain": [
       "('acc', 1)"
      ]
     },
     "execution_count": 162,
     "metadata": {},
     "output_type": "execute_result"
    }
   ],
   "source": [
    "# Try it out\n",
    "predict_cancerous_RF(X[0,:], vae, cancer_vae, clfs, cancer_clfs)"
   ]
  },
  {
   "cell_type": "code",
   "execution_count": 302,
   "metadata": {},
   "outputs": [],
   "source": [
    "# Predict on all test data (SLOW)\n",
    "res = [predict_cancerous(x, vae, cancer_vae, clfs, cancer_clfs) for x in X_test]"
   ]
  },
  {
   "cell_type": "code",
   "execution_count": 304,
   "metadata": {},
   "outputs": [],
   "source": [
    "cancer_pred = np.array(list(zip(*res))[0])\n",
    "y_pred = np.array(list(zip(*res))[1])"
   ]
  },
  {
   "cell_type": "code",
   "execution_count": 313,
   "metadata": {},
   "outputs": [
    {
     "data": {
      "text/plain": [
       "0.8959731543624161"
      ]
     },
     "execution_count": 313,
     "metadata": {},
     "output_type": "execute_result"
    }
   ],
   "source": [
    "# Accuracy of cancer type\n",
    "np.mean(cancer_test == cancer_pred)"
   ]
  },
  {
   "cell_type": "code",
   "execution_count": 305,
   "metadata": {},
   "outputs": [
    {
     "data": {
      "text/plain": [
       "0.9827420901246404"
      ]
     },
     "execution_count": 305,
     "metadata": {},
     "output_type": "execute_result"
    }
   ],
   "source": [
    "# Accuracy of cancerous / not cancerous\n",
    "np.mean(y_pred == y_test)"
   ]
  },
  {
   "cell_type": "markdown",
   "metadata": {},
   "source": [
    "## A different way of classifying \n",
    "For each cancer type in the training set: \n",
    "* Take the cancer to a new domain \n",
    "* Evaluate with the random forest in that domain "
   ]
  },
  {
   "cell_type": "code",
   "execution_count": 115,
   "metadata": {},
   "outputs": [],
   "source": [
    "def translate_to_domain(x, vae, domain): \n",
    "    '''Takes input x, encodes it via vae and \n",
    "       decodes it to the new domain (numbered by cancer_vae)\n",
    "    '''\n",
    "    # Encode to latent space\n",
    "    enc = vae(Variable(torch.FloatTensor(x).unsqueeze(0)),return_enc=True).cpu().data.numpy().ravel()\n",
    "    # Domain vectors (one for each domain)\n",
    "    alphas = np.identity(33)\n",
    "    # The domain we are translating to\n",
    "    alpha = Variable(torch.FloatTensor(alphas[domain,:] ).unsqueeze(0).expand((1, 33)))\n",
    "    \n",
    "    # Decode to new domain \n",
    "    dec = vae.decode(Variable(torch.FloatTensor(enc).unsqueeze(0)), alpha).data.numpy().ravel() \n",
    "    \n",
    "    return(dec)\n",
    "    \n",
    "def translate_dataset(X, vae, domain):\n",
    "    return(np.vstack(list([translate_to_domain(x, vae, domain) for x in X])))\n",
    "\n",
    "def encode_sample(x, vae):\n",
    "    return(vae(Variable(torch.FloatTensor(x).unsqueeze(0)),return_enc=True).cpu().data.numpy().ravel())\n",
    "\n",
    "def encode_dataset(X, vae):\n",
    "    return(np.vstack(list([encode_sample(x, vae) for x in X])))\n",
    "    "
   ]
  },
  {
   "cell_type": "code",
   "execution_count": 33,
   "metadata": {},
   "outputs": [
    {
     "data": {
      "text/plain": [
       "array([-0.01743533, -0.01322723, -0.01756047, ...,  0.06379477,\n",
       "        0.00716539, -0.02373846], dtype=float32)"
      ]
     },
     "execution_count": 33,
     "metadata": {},
     "output_type": "execute_result"
    }
   ],
   "source": [
    "#test it out \n",
    "translate_to_domain(X[0,:], vae, 10)"
   ]
  },
  {
   "cell_type": "code",
   "execution_count": 70,
   "metadata": {},
   "outputs": [],
   "source": [
    "#make an array to store results \n",
    "results_train = pd.DataFrame(0, index=cancer_vae, columns=cancer_vae)"
   ]
  },
  {
   "cell_type": "code",
   "execution_count": 81,
   "metadata": {},
   "outputs": [
    {
     "name": "stdout",
     "output_type": "stream",
     "text": [
      "brca chol 0.10141509433962265\n",
      "brca dlbc 0.9080188679245284\n",
      "brca ucs 0.8974056603773585\n",
      "brca read 0.9080188679245284\n",
      "brca acc 0.9740566037735849\n",
      "brca uvm 0.9080188679245284\n",
      "brca meso 0.7016509433962265\n",
      "brca kich 0.9257075471698113\n",
      "brca thym 0.18396226415094338\n",
      "brca tgct 0.9233490566037735\n",
      "brca gbm 0.28537735849056606\n",
      "brca laml 0.9080188679245284\n",
      "brca paad 0.9056603773584906\n",
      "brca pcpg 0.8997641509433962\n",
      "brca coad 0.8573113207547169\n",
      "brca esca 0.3561320754716981\n",
      "brca sarc 0.9398584905660378\n",
      "brca ov 0.7877358490566038\n",
      "brca cesc 0.7334905660377359\n",
      "brca kirp 0.4033018867924528\n",
      "brca ucec 0.9115566037735849\n",
      "brca lihc 0.8219339622641509\n",
      "brca blca 0.3891509433962264\n",
      "brca stad 0.9681603773584906\n",
      "brca skcm 0.8301886792452831\n",
      "brca lgg 0.2865566037735849\n",
      "brca prad 0.8620283018867925\n",
      "brca lusc 0.9198113207547169\n",
      "brca hnsc 0.09198113207547169\n",
      "brca thca 0.9174528301886793\n",
      "brca luad 0.8514150943396226\n",
      "brca kirc 0.4091981132075472\n",
      "brca brca 0.9245283018867925\n",
      "acc dlbc 1.0\n",
      "acc ucs 1.0\n",
      "acc read 1.0\n",
      "acc acc 0.9454545454545454\n",
      "acc uvm 1.0\n",
      "acc meso 0.5636363636363636\n",
      "acc kich 0.6727272727272727\n",
      "acc thym 0.01818181818181818\n",
      "acc tgct 0.4909090909090909\n",
      "acc gbm 0.16363636363636364\n",
      "acc laml 1.0\n",
      "acc paad 1.0\n",
      "acc pcpg 0.9636363636363636\n",
      "acc coad 0.5818181818181818\n",
      "acc esca 0.09090909090909091\n",
      "acc sarc 0.9454545454545454\n",
      "acc ov 0.7272727272727273\n",
      "acc cesc 0.7090909090909091\n",
      "acc kirp 0.2909090909090909\n",
      "acc ucec 0.9454545454545454\n",
      "acc lihc 0.8\n",
      "acc blca 0.5818181818181818\n",
      "acc stad 0.9818181818181818\n",
      "acc skcm 0.6\n",
      "acc lgg 0.14545454545454545\n",
      "acc prad 0.7636363636363637\n",
      "acc lusc 1.0\n",
      "acc hnsc 0.0\n",
      "acc thca 0.9090909090909091\n",
      "acc luad 0.5454545454545454\n",
      "acc kirc 0.41818181818181815\n",
      "acc brca 0.9636363636363636\n",
      "blca ucs 0.9498327759197325\n",
      "blca read 0.9565217391304348\n",
      "blca acc 0.979933110367893\n",
      "blca uvm 0.9732441471571907\n",
      "blca meso 0.8996655518394648\n",
      "blca kich 0.7658862876254181\n",
      "blca thym 0.3979933110367893\n",
      "blca tgct 0.882943143812709\n",
      "blca gbm 0.44816053511705684\n",
      "blca laml 0.9565217391304348\n",
      "blca paad 0.9732441471571907\n",
      "blca pcpg 0.9331103678929766\n",
      "blca coad 0.979933110367893\n",
      "blca esca 0.6622073578595318\n",
      "blca sarc 0.9531772575250836\n",
      "blca ov 0.3779264214046823\n",
      "blca cesc 0.782608695652174\n",
      "blca kirp 0.5117056856187291\n",
      "blca ucec 0.9498327759197325\n",
      "blca lihc 0.8996655518394648\n",
      "blca blca 0.1505016722408027\n",
      "blca stad 0.9765886287625418\n",
      "blca skcm 0.7123745819397993\n",
      "blca lgg 0.15384615384615385\n",
      "blca prad 0.9498327759197325\n",
      "blca lusc 0.9732441471571907\n",
      "blca hnsc 0.043478260869565216\n",
      "blca thca 0.9732441471571907\n",
      "blca luad 0.9698996655518395\n",
      "blca kirc 0.745819397993311\n",
      "blca brca 0.9765886287625418\n",
      "cesc read 0.9907407407407407\n",
      "cesc acc 0.9953703703703703\n",
      "cesc uvm 0.9953703703703703\n",
      "cesc meso 0.9444444444444444\n",
      "cesc kich 0.9814814814814815\n",
      "cesc thym 0.2361111111111111\n",
      "cesc tgct 0.9861111111111112\n",
      "cesc gbm 0.37962962962962965\n",
      "cesc laml 0.9907407407407407\n",
      "cesc paad 0.9907407407407407\n",
      "cesc pcpg 0.9861111111111112\n",
      "cesc coad 0.9953703703703703\n",
      "cesc esca 0.7638888888888888\n",
      "cesc sarc 1.0\n",
      "cesc ov 0.3055555555555556\n",
      "cesc cesc 0.8703703703703703\n",
      "cesc kirp 0.7175925925925926\n",
      "cesc ucec 0.9907407407407407\n",
      "cesc lihc 1.0\n",
      "cesc blca 0.17592592592592593\n",
      "cesc stad 0.9953703703703703\n",
      "cesc skcm 0.9027777777777778\n",
      "cesc lgg 0.35648148148148145\n",
      "cesc prad 0.9814814814814815\n",
      "cesc lusc 0.9907407407407407\n",
      "cesc hnsc 0.009259259259259259\n",
      "cesc thca 1.0\n",
      "cesc luad 0.9953703703703703\n",
      "cesc kirc 0.9444444444444444\n",
      "cesc brca 0.9861111111111112\n",
      "chol acc 1.0\n",
      "chol uvm 0.8387096774193549\n",
      "chol meso 0.7741935483870968\n",
      "chol kich 0.4838709677419355\n",
      "chol thym 0.8064516129032258\n",
      "chol tgct 0.8709677419354839\n",
      "chol gbm 0.3225806451612903\n",
      "chol laml 0.8387096774193549\n",
      "chol paad 0.8387096774193549\n",
      "chol pcpg 0.8387096774193549\n",
      "chol coad 0.7096774193548387\n",
      "chol esca 0.3225806451612903\n",
      "chol sarc 0.8387096774193549\n",
      "chol ov 0.4838709677419355\n",
      "chol cesc 0.6451612903225806\n",
      "chol kirp 0.41935483870967744\n",
      "chol ucec 0.8387096774193549\n",
      "chol lihc 0.7419354838709677\n",
      "chol blca 0.25806451612903225\n",
      "chol stad 0.8387096774193549\n",
      "chol skcm 0.5483870967741935\n",
      "chol lgg 0.16129032258064516\n",
      "chol prad 0.967741935483871\n",
      "chol lusc 0.8387096774193549\n",
      "chol hnsc 0.16129032258064516\n",
      "chol thca 0.967741935483871\n",
      "chol luad 0.9032258064516129\n",
      "chol kirc 0.4838709677419355\n",
      "chol brca 0.8064516129032258\n",
      "coad uvm 1.0\n",
      "coad meso 0.9552238805970149\n",
      "coad kich 0.9850746268656716\n",
      "coad thym 0.5074626865671642\n",
      "coad tgct 0.9701492537313433\n",
      "coad gbm 0.4925373134328358\n",
      "coad laml 1.0\n",
      "coad paad 1.0\n",
      "coad pcpg 0.9776119402985075\n",
      "coad coad 1.0\n",
      "coad esca 0.7089552238805971\n",
      "coad sarc 1.0\n",
      "coad ov 0.5597014925373134\n",
      "coad cesc 0.7238805970149254\n",
      "coad kirp 0.917910447761194\n",
      "coad ucec 1.0\n",
      "coad lihc 1.0\n",
      "coad blca 0.11940298507462686\n",
      "coad stad 1.0\n",
      "coad skcm 0.7985074626865671\n",
      "coad lgg 0.30597014925373134\n",
      "coad prad 0.7313432835820896\n",
      "coad lusc 1.0\n",
      "coad hnsc 0.0\n",
      "coad thca 0.9701492537313433\n",
      "coad luad 0.9925373134328358\n",
      "coad kirc 0.8731343283582089\n",
      "coad brca 1.0\n",
      "dlbc meso 0.8823529411764706\n",
      "dlbc kich 1.0\n",
      "dlbc thym 0.029411764705882353\n",
      "dlbc tgct 0.9411764705882353\n",
      "dlbc gbm 0.8823529411764706\n",
      "dlbc laml 1.0\n",
      "dlbc paad 1.0\n",
      "dlbc pcpg 0.9411764705882353\n",
      "dlbc coad 1.0\n",
      "dlbc esca 1.0\n",
      "dlbc sarc 0.9411764705882353\n",
      "dlbc ov 1.0\n",
      "dlbc cesc 0.9411764705882353\n",
      "dlbc kirp 0.8529411764705882\n",
      "dlbc ucec 1.0\n",
      "dlbc lihc 1.0\n",
      "dlbc blca 0.0\n",
      "dlbc stad 1.0\n",
      "dlbc skcm 0.9117647058823529\n",
      "dlbc lgg 0.8235294117647058\n",
      "dlbc prad 0.9411764705882353\n",
      "dlbc lusc 0.9705882352941176\n",
      "dlbc hnsc 0.0\n",
      "dlbc thca 0.9411764705882353\n",
      "dlbc luad 0.9705882352941176\n",
      "dlbc kirc 0.7647058823529411\n",
      "dlbc brca 1.0\n",
      "esca kich 0.8686131386861314\n",
      "esca thym 0.24087591240875914\n",
      "esca tgct 0.9051094890510949\n",
      "esca gbm 0.29927007299270075\n",
      "esca laml 0.9416058394160584\n",
      "esca paad 0.7664233576642335\n",
      "esca pcpg 0.9416058394160584\n",
      "esca coad 0.9343065693430657\n",
      "esca esca 0.5474452554744526\n",
      "esca sarc 0.9416058394160584\n",
      "esca ov 0.40145985401459855\n",
      "esca cesc 0.36496350364963503\n",
      "esca kirp 0.41605839416058393\n",
      "esca ucec 0.948905109489051\n",
      "esca lihc 0.9343065693430657\n",
      "esca blca 0.1386861313868613\n",
      "esca stad 0.948905109489051\n",
      "esca skcm 0.8978102189781022\n",
      "esca lgg 0.2116788321167883\n",
      "esca prad 0.927007299270073\n",
      "esca lusc 0.948905109489051\n",
      "esca hnsc 0.058394160583941604\n",
      "esca thca 0.948905109489051\n",
      "esca luad 0.9562043795620438\n",
      "esca kirc 0.5547445255474452\n",
      "esca brca 0.8540145985401459\n",
      "gbm thym 0.008620689655172414\n",
      "gbm tgct 0.6206896551724138\n",
      "gbm gbm 0.3879310344827586\n",
      "gbm laml 1.0\n",
      "gbm paad 0.9482758620689655\n",
      "gbm pcpg 0.9741379310344828\n",
      "gbm coad 0.7068965517241379\n",
      "gbm esca 0.7931034482758621\n",
      "gbm sarc 0.9741379310344828\n",
      "gbm ov 0.3706896551724138\n",
      "gbm cesc 0.9051724137931034\n",
      "gbm kirp 0.3793103448275862\n",
      "gbm ucec 0.9482758620689655\n",
      "gbm lihc 1.0\n",
      "gbm blca 0.43103448275862066\n",
      "gbm stad 1.0\n",
      "gbm skcm 0.8448275862068966\n",
      "gbm lgg 0.28448275862068967\n",
      "gbm prad 0.8448275862068966\n",
      "gbm lusc 0.8879310344827587\n",
      "gbm hnsc 0.0\n",
      "gbm thca 0.9913793103448276\n",
      "gbm luad 0.7844827586206896\n",
      "gbm kirc 0.21551724137931033\n",
      "gbm brca 0.8620689655172413\n",
      "hnsc tgct 0.8383838383838383\n",
      "hnsc gbm 0.5328282828282829\n",
      "hnsc laml 0.9191919191919192\n",
      "hnsc paad 0.9116161616161617\n",
      "hnsc pcpg 0.9040404040404041\n",
      "hnsc coad 0.9191919191919192\n",
      "hnsc esca 0.8106060606060606\n",
      "hnsc sarc 0.9217171717171717\n",
      "hnsc ov 0.32575757575757575\n",
      "hnsc cesc 0.7323232323232324\n",
      "hnsc kirp 0.6439393939393939\n",
      "hnsc ucec 0.9166666666666666\n",
      "hnsc lihc 0.9393939393939394\n",
      "hnsc blca 0.15656565656565657\n",
      "hnsc stad 0.9191919191919192\n",
      "hnsc skcm 0.9545454545454546\n",
      "hnsc lgg 0.21212121212121213\n",
      "hnsc prad 0.8308080808080808\n",
      "hnsc lusc 0.9217171717171717\n",
      "hnsc hnsc 0.08080808080808081\n",
      "hnsc thca 0.9292929292929293\n",
      "hnsc luad 0.9419191919191919\n",
      "hnsc kirc 0.8762626262626263\n",
      "hnsc brca 0.9141414141414141\n",
      "kich gbm 0.328125\n",
      "kich laml 0.671875\n",
      "kich paad 0.671875\n",
      "kich pcpg 0.640625\n",
      "kich coad 0.8125\n",
      "kich esca 0.53125\n",
      "kich sarc 0.734375\n",
      "kich ov 0.859375\n",
      "kich cesc 0.671875\n",
      "kich kirp 0.34375\n",
      "kich ucec 0.65625\n",
      "kich lihc 0.65625\n",
      "kich blca 0.359375\n",
      "kich stad 0.90625\n",
      "kich skcm 0.78125\n",
      "kich lgg 0.359375\n",
      "kich prad 0.90625\n",
      "kich lusc 0.671875\n",
      "kich hnsc 0.328125\n",
      "kich thca 0.71875\n",
      "kich luad 0.359375\n",
      "kich kirc 0.8125\n",
      "kich brca 0.78125\n",
      "kirc laml 0.8797169811320755\n",
      "kirc paad 0.7948113207547169\n",
      "kirc pcpg 0.8632075471698113\n",
      "kirc coad 0.8466981132075472\n",
      "kirc esca 0.1792452830188679\n",
      "kirc sarc 0.8679245283018868\n",
      "kirc ov 0.6533018867924528\n",
      "kirc cesc 0.12971698113207547\n"
     ]
    },
    {
     "name": "stdout",
     "output_type": "stream",
     "text": [
      "kirc kirp 0.1391509433962264\n",
      "kirc ucec 0.8773584905660378\n",
      "kirc lihc 0.5566037735849056\n",
      "kirc blca 0.2028301886792453\n",
      "kirc stad 0.8820754716981132\n",
      "kirc skcm 0.8938679245283019\n",
      "kirc lgg 0.12971698113207547\n",
      "kirc prad 0.7287735849056604\n",
      "kirc lusc 0.875\n",
      "kirc hnsc 0.12028301886792453\n",
      "kirc thca 0.8183962264150944\n",
      "kirc luad 0.8655660377358491\n",
      "kirc kirc 0.1650943396226415\n",
      "kirc brca 0.8514150943396226\n",
      "kirp paad 0.8761061946902655\n",
      "kirp pcpg 0.827433628318584\n",
      "kirp coad 0.6946902654867256\n",
      "kirp esca 0.14601769911504425\n",
      "kirp sarc 0.9380530973451328\n",
      "kirp ov 0.6902654867256637\n",
      "kirp cesc 0.8185840707964602\n",
      "kirp kirp 0.11061946902654868\n",
      "kirp ucec 0.9292035398230089\n",
      "kirp lihc 0.5530973451327433\n",
      "kirp blca 0.15486725663716813\n",
      "kirp stad 0.9646017699115044\n",
      "kirp skcm 0.30973451327433627\n",
      "kirp lgg 0.09292035398230089\n",
      "kirp prad 0.9424778761061947\n",
      "kirp lusc 0.911504424778761\n",
      "kirp hnsc 0.08849557522123894\n",
      "kirp thca 0.831858407079646\n",
      "kirp luad 0.8008849557522124\n",
      "kirp kirc 0.23893805309734514\n",
      "kirp brca 0.9424778761061947\n",
      "laml pcpg 0.8016528925619835\n",
      "laml coad 0.4628099173553719\n",
      "laml esca 0.6694214876033058\n",
      "laml sarc 0.8925619834710744\n",
      "laml ov 0.9421487603305785\n",
      "laml cesc 0.03305785123966942\n",
      "laml kirp 0.15702479338842976\n",
      "laml ucec 1.0\n",
      "laml lihc 0.9917355371900827\n",
      "laml blca 0.008264462809917356\n",
      "laml stad 0.9586776859504132\n",
      "laml skcm 0.256198347107438\n",
      "laml lgg 0.049586776859504134\n",
      "laml prad 1.0\n",
      "laml lusc 0.049586776859504134\n",
      "laml hnsc 0.0\n",
      "laml thca 0.9338842975206612\n",
      "laml luad 0.008264462809917356\n",
      "laml kirc 0.06611570247933884\n",
      "laml brca 0.743801652892562\n",
      "lgg coad 0.444743935309973\n",
      "lgg esca 0.2668463611859838\n",
      "lgg sarc 0.8787061994609164\n",
      "lgg ov 0.7250673854447439\n",
      "lgg cesc 0.8140161725067385\n",
      "lgg kirp 0.03773584905660377\n",
      "lgg ucec 0.692722371967655\n",
      "lgg lihc 0.9757412398921833\n",
      "lgg blca 0.16981132075471697\n",
      "lgg stad 0.9730458221024259\n",
      "lgg skcm 0.9380053908355795\n",
      "lgg lgg 0.0646900269541779\n",
      "lgg prad 0.6630727762803235\n",
      "lgg lusc 0.215633423180593\n",
      "lgg hnsc 0.0\n",
      "lgg thca 0.9838274932614556\n",
      "lgg luad 0.11320754716981132\n",
      "lgg kirc 0.029649595687331536\n",
      "lgg brca 0.353099730458221\n",
      "lihc esca 0.6047297297297297\n",
      "lihc sarc 0.902027027027027\n",
      "lihc ov 0.6959459459459459\n",
      "lihc cesc 0.8209459459459459\n",
      "lihc kirp 0.2533783783783784\n",
      "lihc ucec 0.8716216216216216\n",
      "lihc lihc 0.6182432432432432\n",
      "lihc blca 0.15202702702702703\n",
      "lihc stad 0.8682432432432432\n",
      "lihc skcm 0.4831081081081081\n",
      "lihc lgg 0.14527027027027026\n",
      "lihc prad 0.5844594594594594\n",
      "lihc lusc 0.8716216216216216\n",
      "lihc hnsc 0.12837837837837837\n",
      "lihc thca 0.956081081081081\n",
      "lihc luad 0.6587837837837838\n",
      "lihc kirc 0.4864864864864865\n",
      "lihc brca 0.8716216216216216\n",
      "luad sarc 0.9652605459057072\n",
      "luad ov 0.794044665012407\n",
      "luad cesc 0.5533498759305211\n",
      "luad kirp 0.4466501240694789\n",
      "luad ucec 0.8883374689826302\n",
      "luad lihc 0.8610421836228288\n",
      "luad blca 0.2853598014888337\n",
      "luad stad 0.9156327543424317\n",
      "luad skcm 0.8635235732009926\n",
      "luad lgg 0.21588089330024815\n",
      "luad prad 0.8709677419354839\n",
      "luad lusc 0.8883374689826302\n",
      "luad hnsc 0.11166253101736973\n",
      "luad thca 0.890818858560794\n",
      "luad luad 0.9503722084367245\n",
      "luad kirc 0.4218362282878412\n",
      "luad brca 0.9553349875930521\n",
      "lusc ov 0.6113989637305699\n",
      "lusc cesc 0.8264248704663213\n",
      "lusc kirp 0.34196891191709844\n",
      "lusc ucec 0.8937823834196891\n",
      "lusc lihc 0.9326424870466321\n",
      "lusc blca 0.23056994818652848\n",
      "lusc stad 0.9378238341968912\n",
      "lusc skcm 0.9455958549222798\n",
      "lusc lgg 0.31088082901554404\n",
      "lusc prad 0.8393782383419689\n",
      "lusc lusc 0.8937823834196891\n",
      "lusc hnsc 0.10621761658031088\n",
      "lusc thca 0.9196891191709845\n",
      "lusc luad 0.9844559585492227\n",
      "lusc kirc 0.7487046632124352\n",
      "lusc brca 0.9740932642487047\n",
      "meso cesc 0.7213114754098361\n",
      "meso kirp 0.2459016393442623\n",
      "meso ucec 0.9508196721311475\n",
      "meso lihc 0.8852459016393442\n",
      "meso blca 0.16393442622950818\n",
      "meso stad 0.9836065573770492\n",
      "meso skcm 0.9180327868852459\n",
      "meso lgg 0.08196721311475409\n",
      "meso prad 0.9016393442622951\n",
      "meso lusc 1.0\n",
      "meso hnsc 0.0\n",
      "meso thca 1.0\n",
      "meso luad 0.9344262295081968\n",
      "meso kirc 0.29508196721311475\n",
      "meso brca 1.0\n",
      "ov kirp 0.3674418604651163\n",
      "ov ucec 0.9720930232558139\n",
      "ov lihc 0.9767441860465116\n",
      "ov blca 0.22325581395348837\n",
      "ov stad 1.0\n",
      "ov skcm 0.3767441860465116\n",
      "ov lgg 0.16744186046511628\n",
      "ov prad 0.9720930232558139\n",
      "ov lusc 1.0\n",
      "ov hnsc 0.0\n",
      "ov thca 0.9767441860465116\n",
      "ov luad 0.9813953488372092\n",
      "ov kirc 0.4930232558139535\n",
      "ov brca 1.0\n",
      "paad ucec 0.9765625\n",
      "paad lihc 0.8515625\n",
      "paad blca 0.125\n",
      "paad stad 0.9296875\n",
      "paad skcm 0.8125\n",
      "paad lgg 0.03125\n",
      "paad prad 0.78125\n",
      "paad lusc 0.9375\n",
      "paad hnsc 0.0234375\n",
      "paad thca 0.9765625\n",
      "paad luad 0.9296875\n",
      "paad kirc 0.1484375\n",
      "paad brca 0.9375\n",
      "pcpg lihc 0.9465648854961832\n",
      "pcpg blca 0.42748091603053434\n",
      "pcpg stad 0.9694656488549618\n",
      "pcpg skcm 0.9847328244274809\n",
      "pcpg lgg 0.03816793893129771\n",
      "pcpg prad 0.8244274809160306\n",
      "pcpg lusc 0.08396946564885496\n",
      "pcpg hnsc 0.022900763358778626\n",
      "pcpg thca 0.9770992366412213\n",
      "pcpg luad 0.37404580152671757\n",
      "pcpg kirc 0.03816793893129771\n",
      "pcpg brca 0.916030534351145\n",
      "prad blca 0.2909090909090909\n",
      "prad stad 0.9246753246753247\n",
      "prad skcm 0.43116883116883115\n",
      "prad lgg 0.14545454545454545\n",
      "prad prad 0.8935064935064935\n",
      "prad lusc 0.9012987012987013\n",
      "prad hnsc 0.1038961038961039\n",
      "prad thca 0.8805194805194805\n",
      "prad luad 0.7896103896103897\n",
      "prad kirc 0.32727272727272727\n",
      "prad brca 0.8779220779220779\n",
      "read stad 1.0\n",
      "read skcm 0.8\n",
      "read lgg 0.22\n",
      "read prad 0.86\n",
      "read lusc 1.0\n",
      "read hnsc 0.0\n",
      "read thca 0.98\n",
      "read luad 1.0\n",
      "read kirc 0.86\n",
      "read brca 1.0\n",
      "sarc skcm 0.8225806451612904\n",
      "sarc lgg 0.23118279569892472\n",
      "sarc prad 0.7688172043010753\n",
      "sarc lusc 0.989247311827957\n",
      "sarc hnsc 0.005376344086021506\n",
      "sarc thca 0.9946236559139785\n",
      "sarc luad 0.7473118279569892\n",
      "sarc kirc 0.3870967741935484\n",
      "sarc brca 0.8387096774193549\n",
      "skcm lgg 0.18429003021148035\n",
      "skcm prad 0.9818731117824774\n",
      "skcm lusc 1.0\n",
      "skcm hnsc 0.0\n",
      "skcm thca 0.9939577039274925\n",
      "skcm luad 0.9365558912386707\n",
      "skcm kirc 0.39274924471299094\n",
      "skcm brca 0.9939577039274925\n",
      "stad prad 0.8761904761904762\n",
      "stad lusc 0.9047619047619048\n",
      "stad hnsc 0.09523809523809523\n",
      "stad thca 0.9015873015873016\n",
      "stad luad 0.8857142857142857\n",
      "stad kirc 0.3904761904761905\n",
      "stad brca 0.8444444444444444\n",
      "tgct lusc 0.9896907216494846\n",
      "tgct hnsc 0.0\n",
      "tgct thca 1.0\n",
      "tgct luad 0.845360824742268\n",
      "tgct kirc 0.8144329896907216\n",
      "tgct brca 0.9381443298969072\n",
      "thca hnsc 0.10804020100502512\n",
      "thca thca 0.8743718592964824\n",
      "thca luad 0.7336683417085427\n",
      "thca kirc 0.13316582914572864\n",
      "thca brca 0.8969849246231156\n",
      "thym thca 0.9764705882352941\n",
      "thym luad 0.7764705882352941\n",
      "thym kirc 0.5058823529411764\n",
      "thym brca 0.8823529411764706\n",
      "ucec luad 0.9736842105263158\n",
      "ucec kirc 0.8082706766917294\n",
      "ucec brca 0.9924812030075187\n",
      "ucs kirc 0.45\n",
      "ucs brca 1.0\n",
      "uvm brca 0.9821428571428571\n"
     ]
    }
   ],
   "source": [
    "#test results for each cancer \n",
    "for i in range(len(cancer_vae)):\n",
    "    for j in range(i, len(cancer_vae)):\n",
    "        cancer_source = cancer_vae[i]\n",
    "        #classifer cancer  \n",
    "        cancer_clf = cancer_clfs[j]\n",
    "        #domain for vae \n",
    "        cancer_clf_domain = np.where(cancer_clf==np.array(cancer_vae))[0][0]\n",
    "        #index for classifer \n",
    "        cancer_clf_idx = np.where(cancer_clf==np.array(cancer_clfs))[0][0]\n",
    "        \n",
    "        #subset the data \n",
    "        idx_c = np.where(cancer==cancer_source)[0]\n",
    "        Xc = X[idx_c, :]\n",
    "        yc = y[idx_c]\n",
    "        \n",
    "        #translate dataset \n",
    "        \n",
    "        Xc_clf_domain = translate_dataset(Xc, vae, cancer_clf_domain)\n",
    "        \n",
    "        classifer = clf[cancer_clf_idx]\n",
    "        \n",
    "        acc = classifer.score(Xc_clf_domain,yc)\n",
    "        print(cancer_source, cancer_clf, acc)\n",
    "        \n",
    "        results_train.iloc[i,j] = acc \n",
    "        results_train.iloc[j,i] = acc \n",
    "        \n",
    "        \n",
    "        \n",
    "        \n",
    "        \n",
    "        \n",
    "        \n",
    "        \n",
    "        "
   ]
  },
  {
   "cell_type": "code",
   "execution_count": 83,
   "metadata": {},
   "outputs": [
    {
     "data": {
      "text/plain": [
       "brca    0.717946\n",
       "acc     0.688673\n",
       "blca    0.780513\n",
       "cesc    0.827966\n",
       "chol    0.710400\n",
       "coad    0.827421\n",
       "dlbc    0.835579\n",
       "esca    0.718562\n",
       "gbm     0.593462\n",
       "hnsc    0.777104\n",
       "kich    0.568388\n",
       "kirc    0.713558\n",
       "kirp    0.717097\n",
       "laml    0.658060\n",
       "lgg     0.631540\n",
       "lihc    0.570351\n",
       "luad    0.804482\n",
       "lusc    0.672652\n",
       "meso    0.671460\n",
       "ov      0.519278\n",
       "paad    0.807372\n",
       "pcpg    0.745430\n",
       "prad    0.347581\n",
       "read    0.895834\n",
       "sarc    0.714563\n",
       "skcm    0.324502\n",
       "stad    0.824766\n",
       "tgct    0.825254\n",
       "thca    0.131074\n",
       "thym    0.918133\n",
       "ucec    0.798809\n",
       "ucs     0.493917\n",
       "uvm     0.904888\n",
       "dtype: float64"
      ]
     },
     "execution_count": 83,
     "metadata": {},
     "output_type": "execute_result"
    }
   ],
   "source": [
    "results_train.mean(axis=1)"
   ]
  },
  {
   "cell_type": "code",
   "execution_count": 58,
   "metadata": {},
   "outputs": [
    {
     "data": {
      "text/plain": [
       "0"
      ]
     },
     "execution_count": 58,
     "metadata": {},
     "output_type": "execute_result"
    }
   ],
   "source": [
    "np.where(np.array(cancer_vae)=='brca')[0][0]"
   ]
  },
  {
   "cell_type": "code",
   "execution_count": 80,
   "metadata": {},
   "outputs": [
    {
     "data": {
      "text/plain": [
       "0"
      ]
     },
     "execution_count": 80,
     "metadata": {},
     "output_type": "execute_result"
    }
   ],
   "source": [
    "np.where('chol'==np.array(cancer_clfs))[0][0]"
   ]
  },
  {
   "cell_type": "markdown",
   "metadata": {},
   "source": [
    "## Random Forest baseline for cancer class prediction "
   ]
  },
  {
   "cell_type": "code",
   "execution_count": 111,
   "metadata": {},
   "outputs": [],
   "source": [
    "cancer_RF = RandomForestClassifier(n_estimators=100, max_depth=15, random_state=0, verbose=0)"
   ]
  },
  {
   "cell_type": "code",
   "execution_count": 112,
   "metadata": {
    "scrolled": true
   },
   "outputs": [
    {
     "data": {
      "text/plain": [
       "RandomForestClassifier(bootstrap=True, class_weight=None, criterion='gini',\n",
       "            max_depth=15, max_features='auto', max_leaf_nodes=None,\n",
       "            min_impurity_decrease=0.0, min_impurity_split=None,\n",
       "            min_samples_leaf=1, min_samples_split=2,\n",
       "            min_weight_fraction_leaf=0.0, n_estimators=100, n_jobs=1,\n",
       "            oob_score=False, random_state=0, verbose=0, warm_start=False)"
      ]
     },
     "execution_count": 112,
     "metadata": {},
     "output_type": "execute_result"
    }
   ],
   "source": [
    "cancer_RF.fit(X, cancer)"
   ]
  },
  {
   "cell_type": "code",
   "execution_count": 113,
   "metadata": {},
   "outputs": [
    {
     "data": {
      "text/plain": [
       "0.9965758115326667"
      ]
     },
     "execution_count": 113,
     "metadata": {},
     "output_type": "execute_result"
    }
   ],
   "source": [
    "#training set accuracy \n",
    "cancer_RF.score(X, cancer)"
   ]
  },
  {
   "cell_type": "code",
   "execution_count": 114,
   "metadata": {},
   "outputs": [
    {
     "data": {
      "text/plain": [
       "0.9520613614573347"
      ]
     },
     "execution_count": 114,
     "metadata": {},
     "output_type": "execute_result"
    }
   ],
   "source": [
    "cancer_RF.score(X_test, cancer_test)"
   ]
  },
  {
   "cell_type": "code",
   "execution_count": null,
   "metadata": {},
   "outputs": [],
   "source": [
    "X_encode = encode_dataset(X, vae)\n",
    "X_test_encode = encode_dataset(X_test, vae)"
   ]
  },
  {
   "cell_type": "code",
   "execution_count": 130,
   "metadata": {},
   "outputs": [],
   "source": [
    "encode_cancer_RF = RandomForestClassifier(n_estimators=100, max_depth=20, random_state=0, verbose=0)"
   ]
  },
  {
   "cell_type": "code",
   "execution_count": 131,
   "metadata": {},
   "outputs": [
    {
     "data": {
      "text/plain": [
       "RandomForestClassifier(bootstrap=True, class_weight=None, criterion='gini',\n",
       "            max_depth=20, max_features='auto', max_leaf_nodes=None,\n",
       "            min_impurity_decrease=0.0, min_impurity_split=None,\n",
       "            min_samples_leaf=1, min_samples_split=2,\n",
       "            min_weight_fraction_leaf=0.0, n_estimators=100, n_jobs=1,\n",
       "            oob_score=False, random_state=0, verbose=0, warm_start=False)"
      ]
     },
     "execution_count": 131,
     "metadata": {},
     "output_type": "execute_result"
    }
   ],
   "source": [
    "encode_cancer_RF.fit(X_encode, cancer)"
   ]
  },
  {
   "cell_type": "code",
   "execution_count": 132,
   "metadata": {},
   "outputs": [
    {
     "data": {
      "text/plain": [
       "1.0"
      ]
     },
     "execution_count": 132,
     "metadata": {},
     "output_type": "execute_result"
    }
   ],
   "source": [
    "encode_cancer_RF.score(X_encode, cancer)"
   ]
  },
  {
   "cell_type": "code",
   "execution_count": 133,
   "metadata": {},
   "outputs": [
    {
     "data": {
      "text/plain": [
       "0.87392138063279"
      ]
     },
     "execution_count": 133,
     "metadata": {},
     "output_type": "execute_result"
    }
   ],
   "source": [
    "encode_cancer_RF.score(X_test_encode, cancer_test)"
   ]
  },
  {
   "cell_type": "code",
   "execution_count": 134,
   "metadata": {},
   "outputs": [],
   "source": [
    "#try K nearest neighbors \n",
    "from sklearn.neighbors import KNeighborsClassifier"
   ]
  },
  {
   "cell_type": "code",
   "execution_count": 137,
   "metadata": {},
   "outputs": [],
   "source": [
    "#numeric cancer labels \n",
    "cancer_numeric = [np.where(c==np.array(cancer_vae))[0][0] for c in cancer]\n",
    "cancer_test_numeric = [np.where(c==np.array(cancer_vae))[0][0] for c in cancer_test]"
   ]
  },
  {
   "cell_type": "code",
   "execution_count": 147,
   "metadata": {},
   "outputs": [],
   "source": [
    "neigh = KNeighborsClassifier(n_neighbors=10)"
   ]
  },
  {
   "cell_type": "code",
   "execution_count": 148,
   "metadata": {},
   "outputs": [
    {
     "data": {
      "text/plain": [
       "KNeighborsClassifier(algorithm='auto', leaf_size=30, metric='minkowski',\n",
       "           metric_params=None, n_jobs=1, n_neighbors=10, p=2,\n",
       "           weights='uniform')"
      ]
     },
     "execution_count": 148,
     "metadata": {},
     "output_type": "execute_result"
    }
   ],
   "source": [
    "neigh.fit(X_encode, cancer_numeric)"
   ]
  },
  {
   "cell_type": "code",
   "execution_count": 149,
   "metadata": {},
   "outputs": [
    {
     "data": {
      "text/plain": [
       "0.8676893576222435"
      ]
     },
     "execution_count": 149,
     "metadata": {},
     "output_type": "execute_result"
    }
   ],
   "source": [
    "neigh.score(X_encode, cancer_numeric)"
   ]
  },
  {
   "cell_type": "code",
   "execution_count": 150,
   "metadata": {},
   "outputs": [
    {
     "data": {
      "text/plain": [
       "0.8446788111217641"
      ]
     },
     "execution_count": 150,
     "metadata": {},
     "output_type": "execute_result"
    }
   ],
   "source": [
    "neigh.score(X_test_encode, cancer_test_numeric)"
   ]
  },
  {
   "cell_type": "code",
   "execution_count": 161,
   "metadata": {},
   "outputs": [],
   "source": [
    "def predict_cancerous_RF(x, vae, cancer_vae, clfs, cancer_clfs):\n",
    "    '''\n",
    "    cancer_vae and cancer_clfs are ordered lists of the cancer types for the vae and classifiers \n",
    "    '''\n",
    "    \n",
    "    # Predict cancer (domain)\n",
    "    idx_RF = np.where(cancer_RF.predict(x.reshape(1,-1))==np.array(cancer_vae))[0][0]\n",
    "    cancer_pred = cancer_vae[idx_RF]\n",
    "    \n",
    "    # Predict cancerous / not cancerous using domain specific classifier\n",
    "    idx_clfs = np.where(cancer_pred == np.array(cancer_clfs))[0][0]\n",
    "    y_pred = clfs[idx_clfs].predict(x.reshape(1,-1))[0]\n",
    "    \n",
    "    return(cancer_pred, y_pred)"
   ]
  },
  {
   "cell_type": "code",
   "execution_count": 169,
   "metadata": {},
   "outputs": [],
   "source": [
    "# Predict on all test data (SLOW)\n",
    "res = [predict_cancerous_RF(x, vae, cancer_vae, clfs, cancer_clfs) for x in X_test]"
   ]
  },
  {
   "cell_type": "code",
   "execution_count": 170,
   "metadata": {},
   "outputs": [],
   "source": [
    "cancer_pred = np.array(list(zip(*res))[0])\n",
    "y_pred = np.array(list(zip(*res))[1])"
   ]
  },
  {
   "cell_type": "code",
   "execution_count": 171,
   "metadata": {},
   "outputs": [
    {
     "data": {
      "text/plain": [
       "0.9520613614573347"
      ]
     },
     "execution_count": 171,
     "metadata": {},
     "output_type": "execute_result"
    }
   ],
   "source": [
    "# Accuracy of cancer type\n",
    "np.mean(cancer_test == cancer_pred)"
   ]
  },
  {
   "cell_type": "code",
   "execution_count": 172,
   "metadata": {},
   "outputs": [
    {
     "data": {
      "text/plain": [
       "0.9841802492809204"
      ]
     },
     "execution_count": 172,
     "metadata": {},
     "output_type": "execute_result"
    }
   ],
   "source": [
    "# Accuracy of cancerous / not cancerous\n",
    "np.mean(y_pred == y_test)"
   ]
  },
  {
   "cell_type": "markdown",
   "metadata": {},
   "source": [
    "## GO Term analysis \n",
    "take test skcm and transform into GBM "
   ]
  },
  {
   "cell_type": "code",
   "execution_count": 178,
   "metadata": {},
   "outputs": [],
   "source": [
    "X_sckm = X_test[np.where(np.array(cancer_test)=='skcm')[0],:]"
   ]
  },
  {
   "cell_type": "code",
   "execution_count": 182,
   "metadata": {},
   "outputs": [
    {
     "data": {
      "text/plain": [
       "8"
      ]
     },
     "execution_count": 182,
     "metadata": {},
     "output_type": "execute_result"
    }
   ],
   "source": [
    "gbm_domain_idx = np.where(np.array(cancer_vae)=='gbm')[0][0]\n",
    "gbm_domain_idx"
   ]
  },
  {
   "cell_type": "code",
   "execution_count": 183,
   "metadata": {},
   "outputs": [],
   "source": [
    "X_sckm_to_gbm = translate_dataset(X_sckm, vae, gbm_domain_idx)"
   ]
  },
  {
   "cell_type": "code",
   "execution_count": 185,
   "metadata": {},
   "outputs": [],
   "source": [
    "np.save('X_sckm.npy', X_sckm)"
   ]
  },
  {
   "cell_type": "code",
   "execution_count": 186,
   "metadata": {},
   "outputs": [],
   "source": [
    "np.save('X_sckm_to_gbm.npy', X_sckm_to_gbm)"
   ]
  },
  {
   "cell_type": "code",
   "execution_count": null,
   "metadata": {},
   "outputs": [],
   "source": []
  }
 ],
 "metadata": {
  "kernelspec": {
   "display_name": "Python 3",
   "language": "python",
   "name": "python3"
  },
  "language_info": {
   "codemirror_mode": {
    "name": "ipython",
    "version": 3
   },
   "file_extension": ".py",
   "mimetype": "text/x-python",
   "name": "python",
   "nbconvert_exporter": "python",
   "pygments_lexer": "ipython3",
   "version": "3.6.5"
  }
 },
 "nbformat": 4,
 "nbformat_minor": 2
}
